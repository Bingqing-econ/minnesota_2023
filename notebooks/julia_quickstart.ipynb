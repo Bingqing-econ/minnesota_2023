{
 "cells": [
  {
   "cell_type": "markdown",
   "id": "80af0fd7",
   "metadata": {},
   "source": [
    "# Julia Quickstart"
   ]
  },
  {
   "cell_type": "markdown",
   "id": "ef4a2e43",
   "metadata": {},
   "source": [
    "This notebook covers the basics of Julia, including\n",
    "\n",
    "* getting help\n",
    "* adding packages\n",
    "* types\n",
    "* functions\n",
    "* multiple dispatch\n",
    "* writing efficient code"
   ]
  },
  {
   "cell_type": "code",
   "execution_count": null,
   "id": "1ab50361",
   "metadata": {},
   "outputs": [],
   "source": []
  }
 ],
 "metadata": {
  "kernelspec": {
   "display_name": "Julia 1.9.1",
   "language": "julia",
   "name": "julia-1.9"
  },
  "language_info": {
   "file_extension": ".jl",
   "mimetype": "application/julia",
   "name": "julia",
   "version": "1.9.1"
  }
 },
 "nbformat": 4,
 "nbformat_minor": 5
}
