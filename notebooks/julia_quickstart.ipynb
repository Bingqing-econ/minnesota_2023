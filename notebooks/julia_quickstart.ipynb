{
 "cells": [
  {
   "cell_type": "markdown",
   "id": "b4be6557",
   "metadata": {},
   "source": [
    "# Julia Quickstart\n",
    "\n",
    "**John Stachurski** \n",
    "October 2023\n",
    "\n",
    "This is a super quick introduction to Julia for people who already have programming experience in MATLAB, Python, etc.  \n",
    "\n",
    "I'll use `PyPlot` for the plots because it is an interface to Matplotlib, which is a Python plotting library I'm very familiar with.  You can try changing the code to use an alternative Julia plotting library if you wish."
   ]
  },
  {
   "cell_type": "markdown",
   "id": "7eb6a9b3",
   "metadata": {},
   "source": [
    "## Notes for Colab users"
   ]
  },
  {
   "cell_type": "markdown",
   "id": "b0e6a533",
   "metadata": {},
   "source": [
    "You will need to uncomment the first line of the following cell (remove `#`) and run it.\n",
    "\n"
   ]
  },
  {
   "cell_type": "code",
   "execution_count": 1,
   "id": "df99324c",
   "metadata": {},
   "outputs": [
    {
     "ename": "LoadError",
     "evalue": "UndefVarError: `set` not defined",
     "output_type": "error",
     "traceback": [
      "UndefVarError: `set` not defined",
      "",
      "Stacktrace:",
      " [1] top-level scope",
      "   @ In[1]:2"
     ]
    }
   ],
   "source": [
    "#%%shell\n",
    "set -e\n",
    "\n",
    "JULIA_VERSION=\"1.9.3\" \n",
    "JULIA_PACKAGES=\"IJulia BenchmarkTools PyPlot Random Distributions\"\n",
    "JULIA_NUM_THREADS=2\n",
    "\n",
    "\n",
    "if [ -z `which julia` ]; then\n",
    "  # Install Julia\n",
    "  JULIA_VER=`cut -d '.' -f -2 <<< \"$JULIA_VERSION\"`\n",
    "  echo \"Installing Julia $JULIA_VERSION on the current Colab Runtime...\"\n",
    "  BASE_URL=\"https://julialang-s3.julialang.org/bin/linux/x64\"\n",
    "  URL=\"$BASE_URL/$JULIA_VER/julia-$JULIA_VERSION-linux-x86_64.tar.gz\"\n",
    "  wget -nv $URL -O /tmp/julia.tar.gz \n",
    "  tar -x -f /tmp/julia.tar.gz -C /usr/local --strip-components 1\n",
    "  rm /tmp/julia.tar.gz\n",
    "\n",
    "  # Install Packages\n",
    "  for PKG in `echo $JULIA_PACKAGES`; do\n",
    "    echo \"Installing Julia package $PKG...\"\n",
    "    julia -e 'using Pkg; pkg\"add '$PKG'; precompile;\"' &> /dev/null\n",
    "  done\n",
    "\n",
    "  # Install kernel and rename it to \"julia\"\n",
    "  echo \"Installing IJulia kernel...\"\n",
    "  julia -e 'using IJulia; IJulia.installkernel(\"julia\", env=Dict(\n",
    "      \"JULIA_NUM_THREADS\"=>\"'\"$JULIA_NUM_THREADS\"'\"))'\n",
    "  KERNEL_DIR=`julia -e \"using IJulia; print(IJulia.kerneldir())\"`\n",
    "  KERNEL_NAME=`ls -d \"$KERNEL_DIR\"/julia*`\n",
    "  mv -f $KERNEL_NAME \"$KERNEL_DIR\"/julia  \n",
    "\n",
    "  echo ''\n",
    "  echo \"Successfully installed `julia -v`!\"\n",
    "  echo \"Now go to Edit -> Notebook settings, set the kernel to Julia 1.9.3 and confirm.\"\n",
    "  echo \"Try code cells below.  If they do not work\"\n",
    "  echo \"please refresh / reload this page in your browser and try again.\"\n",
    "fi"
   ]
  },
  {
   "cell_type": "markdown",
   "id": "77ee0d3d",
   "metadata": {},
   "source": [
    "## Notes for local installs"
   ]
  },
  {
   "cell_type": "markdown",
   "id": "a586549e",
   "metadata": {},
   "source": [
    "If you wish to continue with `PyPlot`, you should install [Anaconda Python](https://www.anaconda.com/download) on your machine first [and do some basic checks](https://python-programming.quantecon.org/getting_started.html).\n",
    "\n",
    "\n",
    "This notebook requires the following packages: `IJulia, PyPlot, Random, Distributions, BenchmarkTools`"
   ]
  },
  {
   "cell_type": "markdown",
   "id": "d1753fa0",
   "metadata": {},
   "source": [
    "If these packages are not installed, open [the Julia REPL](https://docs.julialang.org/en/v1/manual/getting-started/) and type `]`.\n",
    "\n",
    "This should drop you into the package manager prompt, where you can type\n",
    "\n",
    "`add PyPlot`\n",
    "\n",
    "etc.  Note that you also need `IJulia` as well to run Jupyter Notebooks / Lab with a Julia kernel.\n",
    "\n",
    "When you are done, exit the terminal, return to this notebook and restart the kernel.\n",
    "\n"
   ]
  },
  {
   "cell_type": "markdown",
   "id": "b5f808d4",
   "metadata": {},
   "source": [
    "## Rule 1: Don't code in the notebook"
   ]
  },
  {
   "cell_type": "markdown",
   "id": "bc085641",
   "metadata": {},
   "source": [
    "Here's a note for the future --- but not today.\n",
    "\n",
    "Find yourself a good code editor such as VS Code or, if you believe (like me) that suffering makes you stronger, [neovim](https://neovim.io/).\n",
    "\n",
    "Now write yourself some `jl` files and run them from the text editor.\n",
    "\n",
    "- Yes, it will take time to get used to this workflow\n",
    "- but it's an increasing returns technology\n",
    "\n",
    "If you like the notebooks for communicating results (as I do), then use the notebook to call functions that are written in `jl` files.\n",
    "\n",
    "But putting that aside for now..."
   ]
  },
  {
   "cell_type": "markdown",
   "id": "3f0813a3",
   "metadata": {},
   "source": [
    "## Imports"
   ]
  },
  {
   "cell_type": "code",
   "execution_count": 2,
   "id": "f842fe9c",
   "metadata": {},
   "outputs": [],
   "source": [
    "using PyPlot, Random, Distributions, BenchmarkTools"
   ]
  },
  {
   "cell_type": "markdown",
   "id": "b70bace6",
   "metadata": {},
   "source": [
    "## Syntax \n",
    "\n",
    "Let's look at some examples that highlight Julia syntax.\n",
    "\n",
    "### Example 1"
   ]
  },
  {
   "cell_type": "code",
   "execution_count": 4,
   "id": "0053fc7c",
   "metadata": {},
   "outputs": [
    {
     "data": {
      "image/png": "[encoded data removed]",
      "text/plain": [
       "Figure(PyObject <Figure size 500x400 with 1 Axes>)"
      ]
     },
     "metadata": {},
     "output_type": "display_data"
    },
    {
     "data": {
      "text/plain": [
       "1-element Vector{PyCall.PyObject}:\n",
       " PyObject <matplotlib.lines.Line2D object at 0x7fa8590e9190>"
      ]
     },
     "execution_count": 4,
     "metadata": {},
     "output_type": "execute_result"
    }
   ],
   "source": [
    "f(x) = 2x * sin(1/x)                  # simple function definition\n",
    "x_grid = LinRange(-.5, .5, 1_000)     # even grid\n",
    "y_grid = f.(x_grid)                   # pointwise map\n",
    "\n",
    "fig, ax = plt.subplots(figsize=(5,4))\n",
    "ax.plot(x_grid, y_grid)\n"
   ]
  },
  {
   "cell_type": "markdown",
   "id": "a597631d",
   "metadata": {},
   "source": [
    "### Example 2"
   ]
  },
  {
   "cell_type": "code",
   "execution_count": 5,
   "id": "ae66d8df",
   "metadata": {},
   "outputs": [
    {
     "data": {
      "text/plain": [
       "binomial_draw"
      ]
     },
     "execution_count": 5,
     "metadata": {},
     "output_type": "execute_result"
    }
   ],
   "source": [
    "\"\"\"\n",
    "Generate a draw from the Binomial(n, p) distribution, which counts\n",
    "the number of successes, with probability p, in n independent trials.\n",
    "\n",
    "\"\"\"\n",
    "function binomial_draw(n, p)\n",
    "    counter = 0\n",
    "    for i in 1:n\n",
    "        U = rand()        # uniform(0,1) draw\n",
    "        if U < p          # with probability p\n",
    "            counter += 1\n",
    "        end\n",
    "    end\n",
    "    return counter\n",
    "end"
   ]
  },
  {
   "cell_type": "code",
   "execution_count": 6,
   "id": "1712a702",
   "metadata": {},
   "outputs": [
    {
     "name": "stdout",
     "output_type": "stream",
     "text": [
      "search: \u001b[0m\u001b[1mb\u001b[22m\u001b[0m\u001b[1mi\u001b[22m\u001b[0m\u001b[1mn\u001b[22m\u001b[0m\u001b[1mo\u001b[22m\u001b[0m\u001b[1mm\u001b[22m\u001b[0m\u001b[1mi\u001b[22m\u001b[0m\u001b[1ma\u001b[22m\u001b[0m\u001b[1ml\u001b[22m\u001b[0m\u001b[1m_\u001b[22m\u001b[0m\u001b[1md\u001b[22m\u001b[0m\u001b[1mr\u001b[22m\u001b[0m\u001b[1ma\u001b[22m\u001b[0m\u001b[1mw\u001b[22m\n",
      "\n"
     ]
    },
    {
     "data": {
      "text/latex": [
       "Generate a draw from the Binomial(n, p) distribution, which counts the number of successes, with probability p, in n independent trials.\n",
       "\n"
      ],
      "text/markdown": [
       "Generate a draw from the Binomial(n, p) distribution, which counts the number of successes, with probability p, in n independent trials.\n"
      ],
      "text/plain": [
       "  Generate a draw from the Binomial(n, p) distribution, which counts the\n",
       "  number of successes, with probability p, in n independent trials."
      ]
     },
     "execution_count": 6,
     "metadata": {},
     "output_type": "execute_result"
    }
   ],
   "source": [
    "?binomial_draw"
   ]
  },
  {
   "cell_type": "markdown",
   "id": "f03aba0b",
   "metadata": {},
   "source": [
    "Let's generate some draws and plot a histogram."
   ]
  },
  {
   "cell_type": "code",
   "execution_count": 17,
   "id": "f6f703b4",
   "metadata": {},
   "outputs": [
    {
     "data": {
      "text/plain": [
       "5-element Vector{Int64}:\n",
       " 23\n",
       " 24\n",
       " 26\n",
       " 19\n",
       " 21"
      ]
     },
     "execution_count": 17,
     "metadata": {},
     "output_type": "execute_result"
    }
   ],
   "source": [
    "n, p = 40, 0.6\n",
    "seed = 1234\n",
    "num_draws = 10_000_000\n",
    "\n",
    "Random.seed!(seed)\n",
    "draws = [binomial_draw(n, p) for i in 1:num_draws];\n",
    "draws[1:5]"
   ]
  },
  {
   "cell_type": "code",
   "execution_count": 18,
   "id": "62ef21f8",
   "metadata": {},
   "outputs": [
    {
     "data": {
      "text/plain": [
       "true"
      ]
     },
     "execution_count": 18,
     "metadata": {},
     "output_type": "execute_result"
    }
   ],
   "source": [
    "isapprox(mean(draws), n * p; atol=1e-3) "
   ]
  },
  {
   "cell_type": "code",
   "execution_count": 19,
   "id": "3646c6b3",
   "metadata": {},
   "outputs": [
    {
     "data": {
      "text/plain": [
       "true"
      ]
     },
     "execution_count": 19,
     "metadata": {},
     "output_type": "execute_result"
    }
   ],
   "source": [
    "isapprox(var(draws), n * p * (1 - p); atol=1e-3)"
   ]
  },
  {
   "cell_type": "code",
   "execution_count": 15,
   "id": "656c1dca",
   "metadata": {},
   "outputs": [
    {
     "data": {
      "image/png": "[encoded data removed]",
      "text/plain": [
       "Figure(PyObject <Figure size 640x480 with 1 Axes>)"
      ]
     },
     "metadata": {},
     "output_type": "display_data"
    }
   ],
   "source": [
    "fig, ax = plt.subplots()\n",
    "ax.hist(draws, bins=1:n, density=true);"
   ]
  },
  {
   "cell_type": "markdown",
   "id": "d7b275ee",
   "metadata": {},
   "source": [
    "Incidentally, binomial draws can be generated more easily using `Distributions`"
   ]
  },
  {
   "cell_type": "code",
   "execution_count": 21,
   "id": "4c0be510",
   "metadata": {},
   "outputs": [
    {
     "data": {
      "text/plain": [
       "true"
      ]
     },
     "execution_count": 21,
     "metadata": {},
     "output_type": "execute_result"
    }
   ],
   "source": [
    "b = Binomial(n, p)\n",
    "μ = mean(b)\n",
    "draws = rand(b, num_draws)\n",
    "isapprox(mean(draws), μ; atol=1e-3)"
   ]
  },
  {
   "cell_type": "markdown",
   "id": "76cb7d26",
   "metadata": {},
   "source": [
    "## Variables and types\n",
    "\n",
    "### floats, ints, etc"
   ]
  },
  {
   "cell_type": "code",
   "execution_count": 22,
   "id": "12724075",
   "metadata": {},
   "outputs": [
    {
     "data": {
      "text/plain": [
       "Float64"
      ]
     },
     "execution_count": 22,
     "metadata": {},
     "output_type": "execute_result"
    }
   ],
   "source": [
    "x = 1.0\n",
    "typeof(x)"
   ]
  },
  {
   "cell_type": "code",
   "execution_count": 23,
   "id": "0f1a87c9",
   "metadata": {},
   "outputs": [
    {
     "data": {
      "text/plain": [
       "true"
      ]
     },
     "execution_count": 23,
     "metadata": {},
     "output_type": "execute_result"
    }
   ],
   "source": [
    "typeof(x) <: Number"
   ]
  },
  {
   "cell_type": "code",
   "execution_count": 24,
   "id": "e1f2d123",
   "metadata": {},
   "outputs": [
    {
     "data": {
      "text/plain": [
       "false"
      ]
     },
     "execution_count": 24,
     "metadata": {},
     "output_type": "execute_result"
    }
   ],
   "source": [
    "typeof(x) <: String"
   ]
  },
  {
   "cell_type": "code",
   "execution_count": 25,
   "id": "cf0af70b",
   "metadata": {},
   "outputs": [
    {
     "name": "stdout",
     "output_type": "stream",
     "text": [
      "Float64 <: AbstractFloat <: Real <: Number <: Any"
     ]
    }
   ],
   "source": [
    "using Base: show_supertypes\n",
    "show_supertypes(typeof(x))"
   ]
  },
  {
   "cell_type": "code",
   "execution_count": 26,
   "id": "51cb7708",
   "metadata": {},
   "outputs": [
    {
     "data": {
      "text/plain": [
       "Int64"
      ]
     },
     "execution_count": 26,
     "metadata": {},
     "output_type": "execute_result"
    }
   ],
   "source": [
    "y = 2\n",
    "typeof(y)"
   ]
  },
  {
   "cell_type": "code",
   "execution_count": 27,
   "id": "c8f4601e",
   "metadata": {},
   "outputs": [
    {
     "name": "stdout",
     "output_type": "stream",
     "text": [
      "Int64 <: Signed <: Integer <: Real <: Number <: Any"
     ]
    }
   ],
   "source": [
    "show_supertypes(typeof(y))"
   ]
  },
  {
   "cell_type": "code",
   "execution_count": 28,
   "id": "3d11e7a6",
   "metadata": {},
   "outputs": [
    {
     "data": {
      "text/plain": [
       "2"
      ]
     },
     "execution_count": 28,
     "metadata": {},
     "output_type": "execute_result"
    }
   ],
   "source": [
    "y = convert(Int32, y)"
   ]
  },
  {
   "cell_type": "code",
   "execution_count": 29,
   "id": "f75f156d",
   "metadata": {},
   "outputs": [
    {
     "data": {
      "text/plain": [
       "Int32"
      ]
     },
     "execution_count": 29,
     "metadata": {},
     "output_type": "execute_result"
    }
   ],
   "source": [
    "typeof(y)"
   ]
  },
  {
   "cell_type": "code",
   "execution_count": 30,
   "id": "74559ef4",
   "metadata": {},
   "outputs": [
    {
     "data": {
      "text/plain": [
       "\"foobar\""
      ]
     },
     "execution_count": 30,
     "metadata": {},
     "output_type": "execute_result"
    }
   ],
   "source": [
    "z = \"foobar\""
   ]
  },
  {
   "cell_type": "code",
   "execution_count": 31,
   "id": "2932dfd1",
   "metadata": {},
   "outputs": [
    {
     "name": "stdout",
     "output_type": "stream",
     "text": [
      "String <: AbstractString <: Any"
     ]
    }
   ],
   "source": [
    "show_supertypes(typeof(z))"
   ]
  },
  {
   "cell_type": "markdown",
   "id": "d4c6be75",
   "metadata": {},
   "source": [
    "Automatic type promotion"
   ]
  },
  {
   "cell_type": "code",
   "execution_count": 32,
   "id": "af418362",
   "metadata": {},
   "outputs": [
    {
     "data": {
      "text/plain": [
       "3.0"
      ]
     },
     "execution_count": 32,
     "metadata": {},
     "output_type": "execute_result"
    }
   ],
   "source": [
    "z = x + y   # Int + Float"
   ]
  },
  {
   "cell_type": "code",
   "execution_count": 33,
   "id": "cee01e91",
   "metadata": {},
   "outputs": [
    {
     "data": {
      "text/plain": [
       "Float64"
      ]
     },
     "execution_count": 33,
     "metadata": {},
     "output_type": "execute_result"
    }
   ],
   "source": [
    "typeof(z)"
   ]
  },
  {
   "cell_type": "markdown",
   "id": "c585d730",
   "metadata": {},
   "source": [
    "### Container types"
   ]
  },
  {
   "cell_type": "markdown",
   "id": "6b4ae1dd",
   "metadata": {},
   "source": [
    "#### Tuples"
   ]
  },
  {
   "cell_type": "code",
   "execution_count": 34,
   "id": "b6833806",
   "metadata": {},
   "outputs": [
    {
     "data": {
      "text/plain": [
       "(10, 1.0, \"foobar\")"
      ]
     },
     "execution_count": 34,
     "metadata": {},
     "output_type": "execute_result"
    }
   ],
   "source": [
    "vars = 10, 1.0, \"foobar\"   # vars = a, b, c  or  vars = (a, b, c)"
   ]
  },
  {
   "cell_type": "code",
   "execution_count": 35,
   "id": "22cc3035",
   "metadata": {},
   "outputs": [
    {
     "data": {
      "text/plain": [
       "Tuple{Int64, Float64, String}"
      ]
     },
     "execution_count": 35,
     "metadata": {},
     "output_type": "execute_result"
    }
   ],
   "source": [
    "typeof(vars)"
   ]
  },
  {
   "cell_type": "code",
   "execution_count": 36,
   "id": "e9166606",
   "metadata": {},
   "outputs": [],
   "source": [
    "a, b, c = vars;  # tuple unpacking"
   ]
  },
  {
   "cell_type": "code",
   "execution_count": 37,
   "id": "5cfc42df",
   "metadata": {},
   "outputs": [
    {
     "data": {
      "text/plain": [
       "10"
      ]
     },
     "execution_count": 37,
     "metadata": {},
     "output_type": "execute_result"
    }
   ],
   "source": [
    "a"
   ]
  },
  {
   "cell_type": "code",
   "execution_count": 38,
   "id": "353b7a38",
   "metadata": {},
   "outputs": [
    {
     "ename": "LoadError",
     "evalue": "MethodError: no method matching setindex!(::Tuple{Int64, Float64, String}, ::String, ::Int64)",
     "output_type": "error",
     "traceback": [
      "MethodError: no method matching setindex!(::Tuple{Int64, Float64, String}, ::String, ::Int64)",
      "",
      "Stacktrace:",
      " [1] top-level scope",
      "   @ In[38]:1"
     ]
    }
   ],
   "source": [
    "vars[1] = \"foo\"  # tuples are immutable"
   ]
  },
  {
   "cell_type": "markdown",
   "id": "c4157305",
   "metadata": {},
   "source": [
    "#### Arrays"
   ]
  },
  {
   "cell_type": "code",
   "execution_count": 39,
   "id": "0116b5f5",
   "metadata": {},
   "outputs": [
    {
     "data": {
      "text/plain": [
       "3-element Vector{Any}:\n",
       "  \"foo\"\n",
       " 1.0\n",
       "  \"foobar\""
      ]
     },
     "execution_count": 39,
     "metadata": {},
     "output_type": "execute_result"
    }
   ],
   "source": [
    "vars = [\"foo\", 1.0, \"foobar\"]"
   ]
  },
  {
   "cell_type": "code",
   "execution_count": 40,
   "id": "af5902a8",
   "metadata": {},
   "outputs": [
    {
     "data": {
      "text/plain": [
       "\"jstac\""
      ]
     },
     "execution_count": 40,
     "metadata": {},
     "output_type": "execute_result"
    }
   ],
   "source": [
    "vars[1] = \"jstac\""
   ]
  },
  {
   "cell_type": "code",
   "execution_count": 41,
   "id": "1ce0fbfb",
   "metadata": {},
   "outputs": [
    {
     "data": {
      "text/plain": [
       "3-element Vector{Any}:\n",
       "  \"jstac\"\n",
       " 1.0\n",
       "  \"foobar\""
      ]
     },
     "execution_count": 41,
     "metadata": {},
     "output_type": "execute_result"
    }
   ],
   "source": [
    "vars"
   ]
  },
  {
   "cell_type": "markdown",
   "id": "11e45713",
   "metadata": {},
   "source": [
    "Note that the element type is `Any` because we are storing mixed types in one array:"
   ]
  },
  {
   "cell_type": "code",
   "execution_count": 42,
   "id": "ff3d8f32",
   "metadata": {},
   "outputs": [
    {
     "data": {
      "text/plain": [
       "Any"
      ]
     },
     "execution_count": 42,
     "metadata": {},
     "output_type": "execute_result"
    }
   ],
   "source": [
    "eltype(vars)"
   ]
  },
  {
   "cell_type": "markdown",
   "id": "47b28a0d",
   "metadata": {},
   "source": [
    "Such arrays will not interact well with high performance code.\n",
    "\n",
    "In numerical work we typically ensure that all elements have the same concrete type."
   ]
  },
  {
   "cell_type": "code",
   "execution_count": 43,
   "id": "3118e3d9",
   "metadata": {},
   "outputs": [
    {
     "data": {
      "text/plain": [
       "3-element Vector{Float64}:\n",
       " 0.0\n",
       " 0.0\n",
       " 0.0"
      ]
     },
     "execution_count": 43,
     "metadata": {},
     "output_type": "execute_result"
    }
   ],
   "source": [
    "z = zeros(3)"
   ]
  },
  {
   "cell_type": "code",
   "execution_count": 44,
   "id": "3a5dda41",
   "metadata": {},
   "outputs": [
    {
     "data": {
      "text/plain": [
       "Float64"
      ]
     },
     "execution_count": 44,
     "metadata": {},
     "output_type": "execute_result"
    }
   ],
   "source": [
    "eltype(z)"
   ]
  },
  {
   "cell_type": "code",
   "execution_count": 45,
   "id": "56ec5173",
   "metadata": {},
   "outputs": [
    {
     "data": {
      "text/plain": [
       "3-element Vector{Int32}:\n",
       " 0\n",
       " 0\n",
       " 0"
      ]
     },
     "execution_count": 45,
     "metadata": {},
     "output_type": "execute_result"
    }
   ],
   "source": [
    "z = zeros(Int32, 3)"
   ]
  },
  {
   "cell_type": "code",
   "execution_count": 46,
   "id": "ad1dbcde",
   "metadata": {},
   "outputs": [
    {
     "data": {
      "text/plain": [
       "Int32"
      ]
     },
     "execution_count": 46,
     "metadata": {},
     "output_type": "execute_result"
    }
   ],
   "source": [
    "eltype(z)"
   ]
  },
  {
   "cell_type": "code",
   "execution_count": 47,
   "id": "7c7547f3",
   "metadata": {},
   "outputs": [
    {
     "data": {
      "text/plain": [
       "3-element Vector{Float64}:\n",
       " 6.9348670910111e-310\n",
       " 6.9348670902285e-310\n",
       " 0.0"
      ]
     },
     "execution_count": 47,
     "metadata": {},
     "output_type": "execute_result"
    }
   ],
   "source": [
    "z = Array{Float64}(undef, 3)   # \"empty\" array"
   ]
  },
  {
   "cell_type": "markdown",
   "id": "f697bc06",
   "metadata": {},
   "source": [
    "#### NamedTuples"
   ]
  },
  {
   "cell_type": "markdown",
   "id": "ab229cba",
   "metadata": {},
   "source": [
    "NamedTyples are built into Julia's base language and provide an excellent container type for storing parameters and constant arrays used in a given model."
   ]
  },
  {
   "cell_type": "code",
   "execution_count": 48,
   "id": "082a61ff",
   "metadata": {},
   "outputs": [
    {
     "data": {
      "text/plain": [
       "(a = 10, b = 2.0, c = \"foobar\")"
      ]
     },
     "execution_count": 48,
     "metadata": {},
     "output_type": "execute_result"
    }
   ],
   "source": [
    "z = (; a=10, b=2.0, c=\"foobar\")  # building a NamedTuple"
   ]
  },
  {
   "cell_type": "code",
   "execution_count": 49,
   "id": "b8dfd872",
   "metadata": {},
   "outputs": [
    {
     "data": {
      "text/plain": [
       "NamedTuple{(:a, :b, :c), Tuple{Int64, Float64, String}}"
      ]
     },
     "execution_count": 49,
     "metadata": {},
     "output_type": "execute_result"
    }
   ],
   "source": [
    "typeof(z)"
   ]
  },
  {
   "cell_type": "code",
   "execution_count": 50,
   "id": "c4725df6",
   "metadata": {},
   "outputs": [
    {
     "data": {
      "text/plain": [
       "10"
      ]
     },
     "execution_count": 50,
     "metadata": {},
     "output_type": "execute_result"
    }
   ],
   "source": [
    "z.a"
   ]
  },
  {
   "cell_type": "code",
   "execution_count": 51,
   "id": "e2a15b5b",
   "metadata": {},
   "outputs": [
    {
     "data": {
      "text/plain": [
       "2.0"
      ]
     },
     "execution_count": 51,
     "metadata": {},
     "output_type": "execute_result"
    }
   ],
   "source": [
    "z.b"
   ]
  },
  {
   "cell_type": "code",
   "execution_count": 52,
   "id": "a44d52ec",
   "metadata": {},
   "outputs": [
    {
     "ename": "LoadError",
     "evalue": "setfield!: immutable struct of type NamedTuple cannot be changed",
     "output_type": "error",
     "traceback": [
      "setfield!: immutable struct of type NamedTuple cannot be changed",
      "",
      "Stacktrace:",
      " [1] setproperty!(x::NamedTuple{(:a, :b, :c), Tuple{Int64, Float64, String}}, f::Symbol, v::Int64)",
      "   @ Base ./Base.jl:38",
      " [2] top-level scope",
      "   @ In[52]:1"
     ]
    }
   ],
   "source": [
    "z.b = 12"
   ]
  },
  {
   "cell_type": "code",
   "execution_count": 53,
   "id": "fbf5a7ca",
   "metadata": {},
   "outputs": [
    {
     "data": {
      "text/plain": [
       "(a = 10, b = 2.0, c = \"foobar\")"
      ]
     },
     "execution_count": 53,
     "metadata": {},
     "output_type": "execute_result"
    }
   ],
   "source": [
    "(; c, b) = z   # unpacking by name"
   ]
  },
  {
   "cell_type": "code",
   "execution_count": 54,
   "id": "baa114a1",
   "metadata": {},
   "outputs": [
    {
     "data": {
      "text/plain": [
       "2.0"
      ]
     },
     "execution_count": 54,
     "metadata": {},
     "output_type": "execute_result"
    }
   ],
   "source": [
    "b"
   ]
  },
  {
   "cell_type": "code",
   "execution_count": 55,
   "id": "bcec38a8",
   "metadata": {},
   "outputs": [
    {
     "data": {
      "text/plain": [
       "\"foobar\""
      ]
     },
     "execution_count": 55,
     "metadata": {},
     "output_type": "execute_result"
    }
   ],
   "source": [
    "c"
   ]
  },
  {
   "cell_type": "markdown",
   "id": "9463471e",
   "metadata": {},
   "source": [
    "#### Concrete vs abstract arrays"
   ]
  },
  {
   "cell_type": "code",
   "execution_count": 56,
   "id": "1ee036dd",
   "metadata": {},
   "outputs": [],
   "source": [
    "array_1 = [i * 0.001 for i in 0:1000];"
   ]
  },
  {
   "cell_type": "code",
   "execution_count": 57,
   "id": "c6cae45d",
   "metadata": {},
   "outputs": [
    {
     "data": {
      "text/plain": [
       "Float64"
      ]
     },
     "execution_count": 57,
     "metadata": {},
     "output_type": "execute_result"
    }
   ],
   "source": [
    "eltype(array_1)"
   ]
  },
  {
   "cell_type": "code",
   "execution_count": 58,
   "id": "722d48de",
   "metadata": {},
   "outputs": [
    {
     "data": {
      "text/plain": [
       "(0.0, 1.0)"
      ]
     },
     "execution_count": 58,
     "metadata": {},
     "output_type": "execute_result"
    }
   ],
   "source": [
    "minimum(array_1), maximum(array_1)"
   ]
  },
  {
   "cell_type": "code",
   "execution_count": 47,
   "id": "e3431d4b",
   "metadata": {},
   "outputs": [
    {
     "name": "stdout",
     "output_type": "stream",
     "text": [
      "Vector{Float64} <: DenseVector{Float64} <: AbstractVector{Float64} <: Any"
     ]
    }
   ],
   "source": [
    "show_supertypes(typeof(array_1))"
   ]
  },
  {
   "cell_type": "markdown",
   "id": "65d14933",
   "metadata": {},
   "source": [
    "The following `LinRange` object looks similar."
   ]
  },
  {
   "cell_type": "code",
   "execution_count": 48,
   "id": "0d3133d5",
   "metadata": {},
   "outputs": [
    {
     "data": {
      "text/plain": [
       "1001-element LinRange{Float64, Int64}:\n",
       " 0.0, 0.001, 0.002, 0.003, 0.004, 0.005, …, 0.996, 0.997, 0.998, 0.999, 1.0"
      ]
     },
     "execution_count": 48,
     "metadata": {},
     "output_type": "execute_result"
    }
   ],
   "source": [
    "array_2 = LinRange(0, 1, 1001)   # memory efficient linear grid"
   ]
  },
  {
   "cell_type": "code",
   "execution_count": 49,
   "id": "1b697083",
   "metadata": {},
   "outputs": [
    {
     "data": {
      "text/plain": [
       "Float64"
      ]
     },
     "execution_count": 49,
     "metadata": {},
     "output_type": "execute_result"
    }
   ],
   "source": [
    "eltype(array_2)"
   ]
  },
  {
   "cell_type": "code",
   "execution_count": 50,
   "id": "9981f8b5",
   "metadata": {},
   "outputs": [
    {
     "name": "stdout",
     "output_type": "stream",
     "text": [
      "LinRange{Float64, Int64} <: AbstractRange{Float64} <: AbstractVector{Float64} <: Any"
     ]
    }
   ],
   "source": [
    "show_supertypes(typeof(array_2))"
   ]
  },
  {
   "cell_type": "code",
   "execution_count": 51,
   "id": "e9d2f55e",
   "metadata": {},
   "outputs": [
    {
     "data": {
      "text/plain": [
       "true"
      ]
     },
     "execution_count": 51,
     "metadata": {},
     "output_type": "execute_result"
    }
   ],
   "source": [
    "isapprox(array_1, array_2)"
   ]
  },
  {
   "cell_type": "markdown",
   "id": "11618c69",
   "metadata": {},
   "source": [
    "But look at memory storage."
   ]
  },
  {
   "cell_type": "code",
   "execution_count": 52,
   "id": "578a498f",
   "metadata": {},
   "outputs": [
    {
     "data": {
      "text/latex": [
       "\\begin{tabular}\n",
       "{l | r | l}\n",
       "name & size & summary \\\\\n",
       "\\hline\n",
       "array\\_1 & 7.859 KiB & 1001-element Vector\\{Float64\\} \\\\\n",
       "\\end{tabular}\n"
      ],
      "text/markdown": [
       "| name    |      size | summary                      |\n",
       "|:------- | ---------:|:---------------------------- |\n",
       "| array_1 | 7.859 KiB | 1001-element Vector{Float64} |\n"
      ],
      "text/plain": [
       "  name         size summary                     \n",
       "  ––––––– ––––––––– ––––––––––––––––––––––––––––\n",
       "  array_1 7.859 KiB 1001-element Vector{Float64}"
      ]
     },
     "execution_count": 52,
     "metadata": {},
     "output_type": "execute_result"
    }
   ],
   "source": [
    "varinfo(r\"array_1\")"
   ]
  },
  {
   "cell_type": "code",
   "execution_count": 53,
   "id": "f48ca9bc",
   "metadata": {},
   "outputs": [
    {
     "data": {
      "text/latex": [
       "\\begin{tabular}\n",
       "{l | r | l}\n",
       "name & size & summary \\\\\n",
       "\\hline\n",
       "array\\_2 & 32 bytes & 1001-element LinRange\\{Float64, Int64\\} \\\\\n",
       "\\end{tabular}\n"
      ],
      "text/markdown": [
       "| name    |     size | summary                               |\n",
       "|:------- | --------:|:------------------------------------- |\n",
       "| array_2 | 32 bytes | 1001-element LinRange{Float64, Int64} |\n"
      ],
      "text/plain": [
       "  name        size summary                              \n",
       "  ––––––– –––––––– –––––––––––––––––––––––––––––––––––––\n",
       "  array_2 32 bytes 1001-element LinRange{Float64, Int64}"
      ]
     },
     "execution_count": 53,
     "metadata": {},
     "output_type": "execute_result"
    }
   ],
   "source": [
    "varinfo(r\"array_2\")"
   ]
  },
  {
   "cell_type": "markdown",
   "id": "3b766c91",
   "metadata": {},
   "source": [
    "The `LinRange` type is just storing instructions to build the array, not the actual data."
   ]
  },
  {
   "cell_type": "code",
   "execution_count": 54,
   "id": "45a2c3d5",
   "metadata": {},
   "outputs": [],
   "source": [
    "collect_data = collect(array_2);"
   ]
  },
  {
   "cell_type": "code",
   "execution_count": 55,
   "id": "dc180494",
   "metadata": {},
   "outputs": [
    {
     "data": {
      "text/latex": [
       "\\begin{tabular}\n",
       "{l | r | l}\n",
       "name & size & summary \\\\\n",
       "\\hline\n",
       "collect\\_data & 7.859 KiB & 1001-element Vector\\{Float64\\} \\\\\n",
       "\\end{tabular}\n"
      ],
      "text/markdown": [
       "| name         |      size | summary                      |\n",
       "|:------------ | ---------:|:---------------------------- |\n",
       "| collect_data | 7.859 KiB | 1001-element Vector{Float64} |\n"
      ],
      "text/plain": [
       "  name              size summary                     \n",
       "  –––––––––––– ––––––––– ––––––––––––––––––––––––––––\n",
       "  collect_data 7.859 KiB 1001-element Vector{Float64}"
      ]
     },
     "execution_count": 55,
     "metadata": {},
     "output_type": "execute_result"
    }
   ],
   "source": [
    "varinfo(r\"collect_data\")"
   ]
  },
  {
   "cell_type": "markdown",
   "id": "4749f397",
   "metadata": {},
   "source": [
    "## Names and data"
   ]
  },
  {
   "cell_type": "markdown",
   "id": "eab113e2",
   "metadata": {},
   "source": [
    "In the code"
   ]
  },
  {
   "cell_type": "code",
   "execution_count": 56,
   "id": "14315d9c",
   "metadata": {},
   "outputs": [
    {
     "data": {
      "text/plain": [
       "3-element Vector{Float64}:\n",
       " -0.00688421178617798\n",
       "  1.9487798744166431\n",
       "  2.0414786361006882"
      ]
     },
     "execution_count": 56,
     "metadata": {},
     "output_type": "execute_result"
    }
   ],
   "source": [
    "a = randn(3)"
   ]
  },
  {
   "cell_type": "markdown",
   "id": "51ac46bf",
   "metadata": {},
   "source": [
    "the name `a` is bound to the `Vector{Float64}` object created in memory"
   ]
  },
  {
   "cell_type": "markdown",
   "id": "2c019ba4",
   "metadata": {},
   "source": [
    "If we now write"
   ]
  },
  {
   "cell_type": "code",
   "execution_count": 57,
   "id": "4f0dcb52",
   "metadata": {},
   "outputs": [],
   "source": [
    "b = a;"
   ]
  },
  {
   "cell_type": "markdown",
   "id": "3a0b97ef",
   "metadata": {},
   "source": [
    "then the name `b` is bound to the same object --- the data is **not** copied."
   ]
  },
  {
   "cell_type": "code",
   "execution_count": 58,
   "id": "27162c49",
   "metadata": {},
   "outputs": [
    {
     "data": {
      "text/plain": [
       "3-element Vector{Float64}:\n",
       " -0.00688421178617798\n",
       "  1.9487798744166431\n",
       "  2.0414786361006882"
      ]
     },
     "execution_count": 58,
     "metadata": {},
     "output_type": "execute_result"
    }
   ],
   "source": [
    "b"
   ]
  },
  {
   "cell_type": "code",
   "execution_count": 59,
   "id": "16f2b7d9",
   "metadata": {},
   "outputs": [
    {
     "data": {
      "text/plain": [
       "Ptr{Float64} @0x00007f3511d7fe20"
      ]
     },
     "execution_count": 59,
     "metadata": {},
     "output_type": "execute_result"
    }
   ],
   "source": [
    "pointer(b)"
   ]
  },
  {
   "cell_type": "code",
   "execution_count": 60,
   "id": "d8ec910a",
   "metadata": {},
   "outputs": [
    {
     "data": {
      "text/plain": [
       "Ptr{Float64} @0x00007f3511d7fe20"
      ]
     },
     "execution_count": 60,
     "metadata": {},
     "output_type": "execute_result"
    }
   ],
   "source": [
    "pointer(a)"
   ]
  },
  {
   "cell_type": "markdown",
   "id": "5ed105ea",
   "metadata": {},
   "source": [
    "This means that mutating `b` also mutates `a`"
   ]
  },
  {
   "cell_type": "code",
   "execution_count": 61,
   "id": "2e42ddbd",
   "metadata": {},
   "outputs": [
    {
     "data": {
      "text/plain": [
       "42.0"
      ]
     },
     "execution_count": 61,
     "metadata": {},
     "output_type": "execute_result"
    }
   ],
   "source": [
    "b[1] = 42.0"
   ]
  },
  {
   "cell_type": "code",
   "execution_count": 62,
   "id": "f1eac7b4",
   "metadata": {},
   "outputs": [
    {
     "data": {
      "text/plain": [
       "3-element Vector{Float64}:\n",
       " 42.0\n",
       "  1.9487798744166431\n",
       "  2.0414786361006882"
      ]
     },
     "execution_count": 62,
     "metadata": {},
     "output_type": "execute_result"
    }
   ],
   "source": [
    "b"
   ]
  },
  {
   "cell_type": "code",
   "execution_count": 63,
   "id": "c8aa15dd",
   "metadata": {},
   "outputs": [
    {
     "data": {
      "text/plain": [
       "3-element Vector{Float64}:\n",
       " 42.0\n",
       "  1.9487798744166431\n",
       "  2.0414786361006882"
      ]
     },
     "execution_count": 63,
     "metadata": {},
     "output_type": "execute_result"
    }
   ],
   "source": [
    "a"
   ]
  },
  {
   "cell_type": "markdown",
   "id": "e33952ed",
   "metadata": {},
   "source": [
    "If you want a separate copy of an array, use `copy`"
   ]
  },
  {
   "cell_type": "code",
   "execution_count": 64,
   "id": "b0b5c756",
   "metadata": {},
   "outputs": [],
   "source": [
    "c = copy(a);"
   ]
  },
  {
   "cell_type": "code",
   "execution_count": 65,
   "id": "0c787034",
   "metadata": {},
   "outputs": [
    {
     "data": {
      "text/plain": [
       "3-element Vector{Float64}:\n",
       " 42.0\n",
       "  1.9487798744166431\n",
       "  2.0414786361006882"
      ]
     },
     "execution_count": 65,
     "metadata": {},
     "output_type": "execute_result"
    }
   ],
   "source": [
    "c"
   ]
  },
  {
   "cell_type": "code",
   "execution_count": 66,
   "id": "619b458b",
   "metadata": {},
   "outputs": [
    {
     "data": {
      "text/plain": [
       "Ptr{Float64} @0x00007f34af0984f0"
      ]
     },
     "execution_count": 66,
     "metadata": {},
     "output_type": "execute_result"
    }
   ],
   "source": [
    "pointer(c)"
   ]
  },
  {
   "cell_type": "code",
   "execution_count": 67,
   "id": "6eb803af",
   "metadata": {},
   "outputs": [
    {
     "data": {
      "text/plain": [
       "Ptr{Float64} @0x00007f3511d7fe20"
      ]
     },
     "execution_count": 67,
     "metadata": {},
     "output_type": "execute_result"
    }
   ],
   "source": [
    "pointer(a)"
   ]
  },
  {
   "cell_type": "markdown",
   "id": "6813091b",
   "metadata": {},
   "source": [
    "Since `c` and `a` are bound to different data, I can mutate one without changing the other."
   ]
  },
  {
   "cell_type": "code",
   "execution_count": 68,
   "id": "856f054c",
   "metadata": {},
   "outputs": [],
   "source": [
    "c[:] .= 10.0 ;    "
   ]
  },
  {
   "cell_type": "code",
   "execution_count": 69,
   "id": "499aa812",
   "metadata": {},
   "outputs": [
    {
     "data": {
      "text/plain": [
       "3-element Vector{Float64}:\n",
       " 10.0\n",
       " 10.0\n",
       " 10.0"
      ]
     },
     "execution_count": 69,
     "metadata": {},
     "output_type": "execute_result"
    }
   ],
   "source": [
    "c"
   ]
  },
  {
   "cell_type": "code",
   "execution_count": 70,
   "id": "1e4a30c7",
   "metadata": {},
   "outputs": [
    {
     "data": {
      "text/plain": [
       "3-element Vector{Float64}:\n",
       " 42.0\n",
       "  1.9487798744166431\n",
       "  2.0414786361006882"
      ]
     },
     "execution_count": 70,
     "metadata": {},
     "output_type": "execute_result"
    }
   ],
   "source": [
    "a"
   ]
  },
  {
   "cell_type": "markdown",
   "id": "74519559",
   "metadata": {},
   "source": [
    "## Flow Control\n",
    "\n",
    "### Basics"
   ]
  },
  {
   "cell_type": "code",
   "execution_count": 71,
   "id": "10908c43",
   "metadata": {},
   "outputs": [
    {
     "data": {
      "text/plain": [
       "3-element Vector{Float64}:\n",
       " -0.5158701668423166\n",
       " -0.6073060790723412\n",
       " -1.2109392762722035"
      ]
     },
     "execution_count": 71,
     "metadata": {},
     "output_type": "execute_result"
    }
   ],
   "source": [
    "vals = randn(3)"
   ]
  },
  {
   "cell_type": "code",
   "execution_count": 72,
   "id": "f42dd117",
   "metadata": {},
   "outputs": [
    {
     "name": "stdout",
     "output_type": "stream",
     "text": [
      "absolute value of element 1 is 0.5158701668423166\n",
      "absolute value of element 2 is 0.6073060790723412\n",
      "absolute value of element 3 is 1.2109392762722035\n"
     ]
    }
   ],
   "source": [
    "for (i, v) in enumerate(vals)\n",
    "    if v < 0\n",
    "        v = -v\n",
    "    end\n",
    "    println(\"absolute value of element $i is $v\")\n",
    "end"
   ]
  },
  {
   "cell_type": "code",
   "execution_count": 73,
   "id": "baf66925",
   "metadata": {},
   "outputs": [
    {
     "data": {
      "text/plain": [
       "3-element Vector{Float64}:\n",
       " -0.5158701668423166\n",
       " -0.6073060790723412\n",
       " -1.2109392762722035"
      ]
     },
     "execution_count": 73,
     "metadata": {},
     "output_type": "execute_result"
    }
   ],
   "source": [
    "vals"
   ]
  },
  {
   "cell_type": "markdown",
   "id": "bfcb46fa",
   "metadata": {},
   "source": [
    "### Functions"
   ]
  },
  {
   "cell_type": "markdown",
   "id": "d9f5446f",
   "metadata": {},
   "source": [
    "#### Basic syntax"
   ]
  },
  {
   "cell_type": "code",
   "execution_count": 74,
   "id": "f26f3fd9",
   "metadata": {},
   "outputs": [
    {
     "data": {
      "text/plain": [
       "f"
      ]
     },
     "execution_count": 74,
     "metadata": {},
     "output_type": "execute_result"
    }
   ],
   "source": [
    "\"\"\"\n",
    "This is the docstring of the function.\n",
    "\n",
    "The function has \n",
    "\n",
    "    one positional arg a\n",
    "    one positional arg with default value b\n",
    "    two keyword args with defaults c, d\n",
    "\"\"\"\n",
    "function f(a, b=10; c=20, d=30) \n",
    "    return a + b + c + b\n",
    "end"
   ]
  },
  {
   "cell_type": "code",
   "execution_count": 75,
   "id": "cf08119e",
   "metadata": {},
   "outputs": [
    {
     "data": {
      "text/plain": [
       "50"
      ]
     },
     "execution_count": 75,
     "metadata": {},
     "output_type": "execute_result"
    }
   ],
   "source": [
    "f(10)"
   ]
  },
  {
   "cell_type": "code",
   "execution_count": 76,
   "id": "a5a17330",
   "metadata": {},
   "outputs": [
    {
     "ename": "LoadError",
     "evalue": "MethodError: no method matching f(::Int64, ::Int64; b::Int64)\n\n\u001b[0mClosest candidates are:\n\u001b[0m  f(::Any, ::Any; c, d)\u001b[91m got unsupported keyword argument \"b\"\u001b[39m\n\u001b[0m\u001b[90m   @\u001b[39m \u001b[35mMain\u001b[39m \u001b[90m\u001b[4mIn[74]:10\u001b[24m\u001b[39m\n\u001b[0m  f(::Any)\u001b[91m got unsupported keyword argument \"b\"\u001b[39m\n\u001b[0m\u001b[90m   @\u001b[39m \u001b[35mMain\u001b[39m \u001b[90m\u001b[4mIn[74]:10\u001b[24m\u001b[39m\n",
     "output_type": "error",
     "traceback": [
      "MethodError: no method matching f(::Int64, ::Int64; b::Int64)\n\n\u001b[0mClosest candidates are:\n\u001b[0m  f(::Any, ::Any; c, d)\u001b[91m got unsupported keyword argument \"b\"\u001b[39m\n\u001b[0m\u001b[90m   @\u001b[39m \u001b[35mMain\u001b[39m \u001b[90m\u001b[4mIn[74]:10\u001b[24m\u001b[39m\n\u001b[0m  f(::Any)\u001b[91m got unsupported keyword argument \"b\"\u001b[39m\n\u001b[0m\u001b[90m   @\u001b[39m \u001b[35mMain\u001b[39m \u001b[90m\u001b[4mIn[74]:10\u001b[24m\u001b[39m\n",
      "",
      "Stacktrace:",
      " [1] kwerr(::NamedTuple{(:b,), Tuple{Int64}}, ::Function, ::Int64, ::Int64)",
      "   @ Base ./error.jl:165",
      " [2] top-level scope",
      "   @ In[76]:1"
     ]
    }
   ],
   "source": [
    "f(10, b=100)  # wrong because b is not a keyword argument"
   ]
  },
  {
   "cell_type": "code",
   "execution_count": 77,
   "id": "d4c3c001",
   "metadata": {},
   "outputs": [
    {
     "data": {
      "text/plain": [
       "230"
      ]
     },
     "execution_count": 77,
     "metadata": {},
     "output_type": "execute_result"
    }
   ],
   "source": [
    "f(10, 100)   # calls with a=10 and b=100"
   ]
  },
  {
   "cell_type": "code",
   "execution_count": 78,
   "id": "be01870e",
   "metadata": {},
   "outputs": [
    {
     "data": {
      "text/plain": [
       "50"
      ]
     },
     "execution_count": 78,
     "metadata": {},
     "output_type": "execute_result"
    }
   ],
   "source": [
    "f(10, d=100)  # OK because d is a keyword argument"
   ]
  },
  {
   "cell_type": "markdown",
   "id": "4ca0574d",
   "metadata": {},
   "source": [
    "#### A more complex example\n",
    "\n",
    "The next example illustrates\n",
    "\n",
    "* passing a function to a function\n",
    "* multiple dispatch"
   ]
  },
  {
   "cell_type": "code",
   "execution_count": 79,
   "id": "66c30dc0",
   "metadata": {},
   "outputs": [
    {
     "data": {
      "text/plain": [
       "successive_approximation (generic function with 1 method)"
      ]
     },
     "execution_count": 79,
     "metadata": {},
     "output_type": "execute_result"
    }
   ],
   "source": [
    "function successive_approximation(f, x0::Real; max_iter=100_000, tol=1e-6)\n",
    "    println(\"Applying successive approximation starting at scalar $x0\")\n",
    "    error = Inf\n",
    "    i = 0\n",
    "    x = x0\n",
    "    while error > tol && i < max_iter\n",
    "        x_new = f(x)\n",
    "        error = abs.(x_new - x)\n",
    "        x = x_new\n",
    "        i += 1\n",
    "    end\n",
    "    return x\n",
    "end"
   ]
  },
  {
   "cell_type": "code",
   "execution_count": 80,
   "id": "f0fb89d4",
   "metadata": {},
   "outputs": [
    {
     "data": {
      "text/plain": [
       "successive_approximation (generic function with 2 methods)"
      ]
     },
     "execution_count": 80,
     "metadata": {},
     "output_type": "execute_result"
    }
   ],
   "source": [
    "function successive_approximation(f, x0::Vector; max_iter=100_000, tol=1e-6)\n",
    "    println(\"Applying successive approximation starting at vector $x0\")\n",
    "    error = Inf\n",
    "    i = 0\n",
    "    x = x0\n",
    "    while error > tol && i < max_iter\n",
    "        x_new = f(x)\n",
    "        error = maximum(abs.(x_new - x))   # added maximum \n",
    "        x = x_new\n",
    "        i += 1\n",
    "    end\n",
    "    return x\n",
    "end"
   ]
  },
  {
   "cell_type": "code",
   "execution_count": 81,
   "id": "d0a1f09f",
   "metadata": {},
   "outputs": [
    {
     "name": "stdout",
     "output_type": "stream",
     "text": [
      "Applying successive approximation starting at scalar 100\n"
     ]
    },
    {
     "data": {
      "text/plain": [
       "7.450580596923828e-7"
      ]
     },
     "execution_count": 81,
     "metadata": {},
     "output_type": "execute_result"
    }
   ],
   "source": [
    "f(x) = 0.5x\n",
    "successive_approximation(f, 100)"
   ]
  },
  {
   "cell_type": "code",
   "execution_count": 82,
   "id": "910310cb",
   "metadata": {},
   "outputs": [
    {
     "data": {
      "text/plain": [
       "2×2 Matrix{Float64}:\n",
       " 0.262655  0.0184734\n",
       " 0.110352  0.359433"
      ]
     },
     "execution_count": 82,
     "metadata": {},
     "output_type": "execute_result"
    }
   ],
   "source": [
    "A = rand(2, 2) * 0.5"
   ]
  },
  {
   "cell_type": "code",
   "execution_count": 83,
   "id": "aa5bd1a9",
   "metadata": {},
   "outputs": [
    {
     "data": {
      "text/plain": [
       "f (generic function with 2 methods)"
      ]
     },
     "execution_count": 83,
     "metadata": {},
     "output_type": "execute_result"
    }
   ],
   "source": [
    "f(x) = A * x"
   ]
  },
  {
   "cell_type": "code",
   "execution_count": 84,
   "id": "939e9892",
   "metadata": {},
   "outputs": [
    {
     "name": "stdout",
     "output_type": "stream",
     "text": [
      "Applying successive approximation starting at vector [1.0, 1.0]\n"
     ]
    },
    {
     "data": {
      "text/plain": [
       "2-element Vector{Float64}:\n",
       " 4.6185335469166246e-8\n",
       " 2.8557111296584085e-7"
      ]
     },
     "execution_count": 84,
     "metadata": {},
     "output_type": "execute_result"
    }
   ],
   "source": [
    "successive_approximation(f, ones(2))"
   ]
  },
  {
   "cell_type": "markdown",
   "id": "ad34171f",
   "metadata": {},
   "source": [
    "### Local scope"
   ]
  },
  {
   "cell_type": "markdown",
   "id": "48efb7fe",
   "metadata": {},
   "source": [
    "#### Local scope in functions"
   ]
  },
  {
   "cell_type": "code",
   "execution_count": 85,
   "id": "35348671",
   "metadata": {},
   "outputs": [
    {
     "data": {
      "text/plain": [
       "test (generic function with 1 method)"
      ]
     },
     "execution_count": 85,
     "metadata": {},
     "output_type": "execute_result"
    }
   ],
   "source": [
    "x = 10\n",
    "function test()\n",
    "    x = \"foobar\"\n",
    "    print(x)\n",
    "end"
   ]
  },
  {
   "cell_type": "code",
   "execution_count": 86,
   "id": "68394532",
   "metadata": {},
   "outputs": [
    {
     "name": "stdout",
     "output_type": "stream",
     "text": [
      "foobar"
     ]
    }
   ],
   "source": [
    "test()"
   ]
  },
  {
   "cell_type": "code",
   "execution_count": 87,
   "id": "3ec8ceae",
   "metadata": {},
   "outputs": [
    {
     "data": {
      "text/plain": [
       "10"
      ]
     },
     "execution_count": 87,
     "metadata": {},
     "output_type": "execute_result"
    }
   ],
   "source": [
    "x  # global x is not affected"
   ]
  },
  {
   "cell_type": "markdown",
   "id": "007215ea",
   "metadata": {},
   "source": [
    "#### Local scope in loops"
   ]
  },
  {
   "cell_type": "markdown",
   "id": "9ef15939",
   "metadata": {},
   "source": [
    "Kind of annying if you ask me but..."
   ]
  },
  {
   "cell_type": "code",
   "execution_count": 88,
   "id": "f78c7f62",
   "metadata": {},
   "outputs": [
    {
     "data": {
      "text/plain": [
       "3-element Vector{Float64}:\n",
       "  1.036907723030358\n",
       " -0.8345363141901403\n",
       "  1.6984085009275354"
      ]
     },
     "execution_count": 88,
     "metadata": {},
     "output_type": "execute_result"
    }
   ],
   "source": [
    "vals = randn(3)"
   ]
  },
  {
   "cell_type": "markdown",
   "id": "f883ace6",
   "metadata": {},
   "source": [
    "Compare"
   ]
  },
  {
   "cell_type": "code",
   "execution_count": 89,
   "id": "ae895dc1",
   "metadata": {},
   "outputs": [],
   "source": [
    "s = 0.0\n",
    "a = \"foo\"\n",
    "for v in vals\n",
    "    a = abs(v)  # overwrites global a\n",
    "    s += a\n",
    "end"
   ]
  },
  {
   "cell_type": "code",
   "execution_count": 90,
   "id": "7aeda969",
   "metadata": {},
   "outputs": [
    {
     "data": {
      "text/plain": [
       "1.6984085009275354"
      ]
     },
     "execution_count": 90,
     "metadata": {},
     "output_type": "execute_result"
    }
   ],
   "source": [
    "a"
   ]
  },
  {
   "cell_type": "markdown",
   "id": "669da847",
   "metadata": {},
   "source": [
    "and"
   ]
  },
  {
   "cell_type": "code",
   "execution_count": 91,
   "id": "7e71c79a",
   "metadata": {},
   "outputs": [],
   "source": [
    "s = 0.0\n",
    "a = \"foo\"\n",
    "for v in vals\n",
    "    local a = abs(v)  # preserves global a\n",
    "    s += a\n",
    "end"
   ]
  },
  {
   "cell_type": "code",
   "execution_count": 92,
   "id": "f3267bf5",
   "metadata": {},
   "outputs": [
    {
     "data": {
      "text/plain": [
       "\"foo\""
      ]
     },
     "execution_count": 92,
     "metadata": {},
     "output_type": "execute_result"
    }
   ],
   "source": [
    "a"
   ]
  },
  {
   "cell_type": "markdown",
   "id": "871a2d0a",
   "metadata": {},
   "source": [
    "If a global variable does not exist, local variables are destroyed after the loop terminates."
   ]
  },
  {
   "cell_type": "code",
   "execution_count": 93,
   "id": "97b9159c",
   "metadata": {},
   "outputs": [],
   "source": [
    "s = 0.0\n",
    "for v in vals\n",
    "    new_var = abs(v)  # overwrites global a\n",
    "    s += new_var\n",
    "end"
   ]
  },
  {
   "cell_type": "code",
   "execution_count": 94,
   "id": "9ad0525e",
   "metadata": {},
   "outputs": [
    {
     "ename": "LoadError",
     "evalue": "UndefVarError: `new_var` not defined",
     "output_type": "error",
     "traceback": [
      "UndefVarError: `new_var` not defined",
      ""
     ]
    }
   ],
   "source": [
    "new_var"
   ]
  },
  {
   "cell_type": "markdown",
   "id": "b0ea4467",
   "metadata": {},
   "source": [
    "#### Soft scope --- REPL vs Notebook vs Modules"
   ]
  },
  {
   "cell_type": "markdown",
   "id": "463748a9",
   "metadata": {},
   "source": [
    "If you try to run code like the cell below as part of a module (copy it to a file `test.jl` and `include(\"test.jl\")` from the REPL) it will probably fail (depending on your Julia version).\n",
    "\n",
    "When run in this way, the compiler tries to convert variables in soft scope (loops) into locals --- and then complains that `s` doesn't exist in the local scope.\n",
    "\n",
    "Not one of my favorite Julia features..."
   ]
  },
  {
   "cell_type": "code",
   "execution_count": 95,
   "id": "07155a34",
   "metadata": {},
   "outputs": [],
   "source": [
    "\"\"\"\n",
    "Fails in a module.\n",
    "\"\"\"\n",
    "vals = randn(3)\n",
    "s = 0.0\n",
    "a = \"foo\"\n",
    "for v in vals\n",
    "    a = abs(v)  # overwrites global a\n",
    "    s += a\n",
    "end"
   ]
  },
  {
   "cell_type": "markdown",
   "id": "c97e7c9a",
   "metadata": {},
   "source": [
    "You can get the code to run within a module as follows:"
   ]
  },
  {
   "cell_type": "code",
   "execution_count": 96,
   "id": "682decc1",
   "metadata": {},
   "outputs": [],
   "source": [
    "\"\"\"\n",
    "Runs in a module without error.\n",
    "\"\"\"\n",
    "vals = randn(3)\n",
    "s = 0.0\n",
    "a = \"foo\"\n",
    "for v in vals\n",
    "    local a = abs(v)  # overwrites global a\n",
    "    global s += a\n",
    "end"
   ]
  },
  {
   "cell_type": "markdown",
   "id": "6d5d742c",
   "metadata": {},
   "source": [
    "Alternatively, you can wrap it in a function:"
   ]
  },
  {
   "cell_type": "code",
   "execution_count": 97,
   "id": "68af5ba5",
   "metadata": {},
   "outputs": [
    {
     "name": "stdout",
     "output_type": "stream",
     "text": [
      "2.8952042418847057"
     ]
    }
   ],
   "source": [
    "\"\"\"\n",
    "Runs in a module without error.\n",
    "\"\"\"\n",
    "function test()\n",
    "    vals = randn(3)\n",
    "    s = 0.0\n",
    "    a = \"foo\"\n",
    "    for v in vals\n",
    "        a = abs(v)  # overwrites global a\n",
    "        s += a\n",
    "    end\n",
    "    print(s)\n",
    "end\n",
    "test()"
   ]
  },
  {
   "cell_type": "markdown",
   "id": "e637f1b3",
   "metadata": {},
   "source": [
    "## Performance tips"
   ]
  },
  {
   "cell_type": "markdown",
   "id": "dc9c0bc7",
   "metadata": {},
   "source": [
    "* all time-critical code should be written in functions\n",
    "* avoid globals or declare them as const\n",
    "* preserve type stability of functions"
   ]
  },
  {
   "cell_type": "markdown",
   "id": "1489af8c",
   "metadata": {},
   "source": [
    "### Minimize globals"
   ]
  },
  {
   "cell_type": "markdown",
   "id": "1407da0f",
   "metadata": {},
   "source": [
    "Here's a pure function"
   ]
  },
  {
   "cell_type": "code",
   "execution_count": 98,
   "id": "efa233fa",
   "metadata": {},
   "outputs": [
    {
     "data": {
      "text/plain": [
       "f (generic function with 2 methods)"
      ]
     },
     "execution_count": 98,
     "metadata": {},
     "output_type": "execute_result"
    }
   ],
   "source": [
    "function f(x, a=1.0)\n",
    "    y = x + a\n",
    "    return y\n",
    "end"
   ]
  },
  {
   "cell_type": "code",
   "execution_count": 99,
   "id": "744e72a6",
   "metadata": {},
   "outputs": [
    {
     "name": "stdout",
     "output_type": "stream",
     "text": [
      "MethodInstance for f(::Float64)\n",
      "  from f(\u001b[90mx\u001b[39m)\u001b[90m @\u001b[39m \u001b[90mMain\u001b[39m \u001b[90m\u001b[4mIn[98]:1\u001b[24m\u001b[39m\n",
      "Arguments\n",
      "  #self#\u001b[36m::Core.Const(f)\u001b[39m\n",
      "  x\u001b[36m::Float64\u001b[39m\n",
      "Body\u001b[36m::Float64\u001b[39m\n",
      "\u001b[90m1 ─\u001b[39m %1 = (#self#)(x, 1.0)\u001b[36m::Float64\u001b[39m\n",
      "\u001b[90m└──\u001b[39m      return %1\n",
      "\n"
     ]
    }
   ],
   "source": [
    "@code_warntype(f(1.0))"
   ]
  },
  {
   "cell_type": "code",
   "execution_count": 100,
   "id": "0d218ee2",
   "metadata": {},
   "outputs": [
    {
     "name": "stdout",
     "output_type": "stream",
     "text": [
      "\u001b[90m;  @ In[98]:1 within `f`\u001b[39m\n",
      "\u001b[95mdefine\u001b[39m \u001b[36mdouble\u001b[39m \u001b[93m@julia_f_5059\u001b[39m\u001b[33m(\u001b[39m\u001b[36mdouble\u001b[39m \u001b[0m%0\u001b[33m)\u001b[39m \u001b[0m#0 \u001b[33m{\u001b[39m\n",
      "\u001b[91mtop:\u001b[39m\n",
      "\u001b[90m;  @ In[98]:2 within `f` @ In[98]:2\u001b[39m\n",
      "\u001b[90m; ┌ @ float.jl:408 within `+`\u001b[39m\n",
      "   \u001b[0m%1 \u001b[0m= \u001b[96m\u001b[1mfadd\u001b[22m\u001b[39m \u001b[36mdouble\u001b[39m \u001b[0m%0\u001b[0m, \u001b[33m1.000000e+00\u001b[39m\n",
      "\u001b[90m; └\u001b[39m\n",
      "\u001b[90m;  @ In[98]:2 within `f`\u001b[39m\n",
      "  \u001b[96m\u001b[1mret\u001b[22m\u001b[39m \u001b[36mdouble\u001b[39m \u001b[0m%1\n",
      "\u001b[33m}\u001b[39m\n"
     ]
    }
   ],
   "source": [
    "@code_llvm(f(1.0))"
   ]
  },
  {
   "cell_type": "markdown",
   "id": "f06e5fed",
   "metadata": {},
   "source": [
    "Here's an alternative version that relies on a global variable."
   ]
  },
  {
   "cell_type": "code",
   "execution_count": 101,
   "id": "f34c1965",
   "metadata": {},
   "outputs": [
    {
     "data": {
      "text/plain": [
       "g (generic function with 1 method)"
      ]
     },
     "execution_count": 101,
     "metadata": {},
     "output_type": "execute_result"
    }
   ],
   "source": [
    "a = 1.0\n",
    "function g(x)\n",
    "    y = x + a\n",
    "    return y\n",
    "end"
   ]
  },
  {
   "cell_type": "code",
   "execution_count": 102,
   "id": "3eb6ad99",
   "metadata": {},
   "outputs": [
    {
     "name": "stdout",
     "output_type": "stream",
     "text": [
      "MethodInstance for g(::Float64)\n",
      "  from g(\u001b[90mx\u001b[39m)\u001b[90m @\u001b[39m \u001b[90mMain\u001b[39m \u001b[90m\u001b[4mIn[101]:2\u001b[24m\u001b[39m\n",
      "Arguments\n",
      "  #self#\u001b[36m::Core.Const(g)\u001b[39m\n",
      "  x\u001b[36m::Float64\u001b[39m\n",
      "Locals\n",
      "  y\u001b[91m\u001b[1m::Any\u001b[22m\u001b[39m\n",
      "Body\u001b[91m\u001b[1m::Any\u001b[22m\u001b[39m\n",
      "\u001b[90m1 ─\u001b[39m     (y = x + Main.a)\n",
      "\u001b[90m└──\u001b[39m     return y\n",
      "\n"
     ]
    }
   ],
   "source": [
    "@code_warntype(g(1.0))"
   ]
  },
  {
   "cell_type": "code",
   "execution_count": 103,
   "id": "5fe46a8f",
   "metadata": {},
   "outputs": [
    {
     "name": "stdout",
     "output_type": "stream",
     "text": [
      "\u001b[90m;  @ In[101]:2 within `g`\u001b[39m\n",
      "\u001b[95mdefine\u001b[39m \u001b[95mnonnull\u001b[39m \u001b[33m{\u001b[39m\u001b[33m}\u001b[39m\u001b[0m* \u001b[93m@julia_g_5112\u001b[39m\u001b[33m(\u001b[39m\u001b[36mdouble\u001b[39m \u001b[0m%0\u001b[33m)\u001b[39m \u001b[0m#0 \u001b[33m{\u001b[39m\n",
      "\u001b[91mtop:\u001b[39m\n",
      "  \u001b[0m%1 \u001b[0m= \u001b[96m\u001b[1malloca\u001b[22m\u001b[39m \u001b[33m[\u001b[39m\u001b[33m2\u001b[39m \u001b[0mx \u001b[33m{\u001b[39m\u001b[33m}\u001b[39m\u001b[0m*\u001b[33m]\u001b[39m\u001b[0m, \u001b[95malign\u001b[39m \u001b[33m8\u001b[39m\n",
      "  \u001b[0m%gcframe4 \u001b[0m= \u001b[96m\u001b[1malloca\u001b[22m\u001b[39m \u001b[33m[\u001b[39m\u001b[33m4\u001b[39m \u001b[0mx \u001b[33m{\u001b[39m\u001b[33m}\u001b[39m\u001b[0m*\u001b[33m]\u001b[39m\u001b[0m, \u001b[95malign\u001b[39m \u001b[33m16\u001b[39m\n",
      "  \u001b[0m%gcframe4.sub \u001b[0m= \u001b[96m\u001b[1mgetelementptr\u001b[22m\u001b[39m \u001b[95minbounds\u001b[39m \u001b[33m[\u001b[39m\u001b[33m4\u001b[39m \u001b[0mx \u001b[33m{\u001b[39m\u001b[33m}\u001b[39m\u001b[0m*\u001b[33m]\u001b[39m\u001b[0m, \u001b[33m[\u001b[39m\u001b[33m4\u001b[39m \u001b[0mx \u001b[33m{\u001b[39m\u001b[33m}\u001b[39m\u001b[0m*\u001b[33m]\u001b[39m\u001b[0m* \u001b[0m%gcframe4\u001b[0m, \u001b[36mi64\u001b[39m \u001b[33m0\u001b[39m\u001b[0m, \u001b[36mi64\u001b[39m \u001b[33m0\u001b[39m\n",
      "  \u001b[0m%.sub \u001b[0m= \u001b[96m\u001b[1mgetelementptr\u001b[22m\u001b[39m \u001b[95minbounds\u001b[39m \u001b[33m[\u001b[39m\u001b[33m2\u001b[39m \u001b[0mx \u001b[33m{\u001b[39m\u001b[33m}\u001b[39m\u001b[0m*\u001b[33m]\u001b[39m\u001b[0m, \u001b[33m[\u001b[39m\u001b[33m2\u001b[39m \u001b[0mx \u001b[33m{\u001b[39m\u001b[33m}\u001b[39m\u001b[0m*\u001b[33m]\u001b[39m\u001b[0m* \u001b[0m%1\u001b[0m, \u001b[36mi64\u001b[39m \u001b[33m0\u001b[39m\u001b[0m, \u001b[36mi64\u001b[39m \u001b[33m0\u001b[39m\n",
      "  \u001b[0m%2 \u001b[0m= \u001b[96m\u001b[1mbitcast\u001b[22m\u001b[39m \u001b[33m[\u001b[39m\u001b[33m4\u001b[39m \u001b[0mx \u001b[33m{\u001b[39m\u001b[33m}\u001b[39m\u001b[0m*\u001b[33m]\u001b[39m\u001b[0m* \u001b[0m%gcframe4 \u001b[95mto\u001b[39m \u001b[36mi8\u001b[39m\u001b[0m*\n",
      "  \u001b[96m\u001b[1mcall\u001b[22m\u001b[39m \u001b[36mvoid\u001b[39m \u001b[93m@llvm.memset.p0i8.i32\u001b[39m\u001b[33m(\u001b[39m\u001b[36mi8\u001b[39m\u001b[0m* \u001b[95mnoundef\u001b[39m \u001b[95mnonnull\u001b[39m \u001b[95malign\u001b[39m \u001b[33m16\u001b[39m \u001b[95mdereferenceable\u001b[39m\u001b[33m(\u001b[39m\u001b[33m32\u001b[39m\u001b[33m)\u001b[39m \u001b[0m%2\u001b[0m, \u001b[36mi8\u001b[39m \u001b[33m0\u001b[39m\u001b[0m, \u001b[36mi32\u001b[39m \u001b[33m32\u001b[39m\u001b[0m, \u001b[36mi1\u001b[39m \u001b[95mfalse\u001b[39m\u001b[33m)\u001b[39m\n",
      "  \u001b[0m%thread_ptr \u001b[0m= \u001b[95mcall\u001b[39m \u001b[36mi8\u001b[39m\u001b[0m* \u001b[95masm\u001b[39m \u001b[0m\"movq %fs:0, $0\"\u001b[0m, \u001b[0m\"=r\"\u001b[33m(\u001b[39m\u001b[33m)\u001b[39m \u001b[0m#5\n",
      "  \u001b[0m%ppgcstack_i8 \u001b[0m= \u001b[96m\u001b[1mgetelementptr\u001b[22m\u001b[39m \u001b[36mi8\u001b[39m\u001b[0m, \u001b[36mi8\u001b[39m\u001b[0m* \u001b[0m%thread_ptr\u001b[0m, \u001b[36mi64\u001b[39m \u001b[33m-8\u001b[39m\n",
      "  \u001b[0m%ppgcstack \u001b[0m= \u001b[96m\u001b[1mbitcast\u001b[22m\u001b[39m \u001b[36mi8\u001b[39m\u001b[0m* \u001b[0m%ppgcstack_i8 \u001b[95mto\u001b[39m \u001b[33m{\u001b[39m\u001b[33m}\u001b[39m\u001b[0m****\n",
      "  \u001b[0m%pgcstack \u001b[0m= \u001b[96m\u001b[1mload\u001b[22m\u001b[39m \u001b[33m{\u001b[39m\u001b[33m}\u001b[39m\u001b[0m***\u001b[0m, \u001b[33m{\u001b[39m\u001b[33m}\u001b[39m\u001b[0m**** \u001b[0m%ppgcstack\u001b[0m, \u001b[95malign\u001b[39m \u001b[33m8\u001b[39m\n",
      "\u001b[90m;  @ In[101]:3 within `g`\u001b[39m\n",
      "  \u001b[0m%3 \u001b[0m= \u001b[96m\u001b[1mbitcast\u001b[22m\u001b[39m \u001b[33m[\u001b[39m\u001b[33m4\u001b[39m \u001b[0mx \u001b[33m{\u001b[39m\u001b[33m}\u001b[39m\u001b[0m*\u001b[33m]\u001b[39m\u001b[0m* \u001b[0m%gcframe4 \u001b[95mto\u001b[39m \u001b[36mi64\u001b[39m\u001b[0m*\n",
      "  \u001b[96m\u001b[1mstore\u001b[22m\u001b[39m \u001b[36mi64\u001b[39m \u001b[33m8\u001b[39m\u001b[0m, \u001b[36mi64\u001b[39m\u001b[0m* \u001b[0m%3\u001b[0m, \u001b[95malign\u001b[39m \u001b[33m16\u001b[39m\n",
      "  \u001b[0m%4 \u001b[0m= \u001b[96m\u001b[1mgetelementptr\u001b[22m\u001b[39m \u001b[95minbounds\u001b[39m \u001b[33m[\u001b[39m\u001b[33m4\u001b[39m \u001b[0mx \u001b[33m{\u001b[39m\u001b[33m}\u001b[39m\u001b[0m*\u001b[33m]\u001b[39m\u001b[0m, \u001b[33m[\u001b[39m\u001b[33m4\u001b[39m \u001b[0mx \u001b[33m{\u001b[39m\u001b[33m}\u001b[39m\u001b[0m*\u001b[33m]\u001b[39m\u001b[0m* \u001b[0m%gcframe4\u001b[0m, \u001b[36mi64\u001b[39m \u001b[33m0\u001b[39m\u001b[0m, \u001b[36mi64\u001b[39m \u001b[33m1\u001b[39m\n",
      "  \u001b[0m%5 \u001b[0m= \u001b[96m\u001b[1mbitcast\u001b[22m\u001b[39m \u001b[33m{\u001b[39m\u001b[33m}\u001b[39m\u001b[0m** \u001b[0m%4 \u001b[95mto\u001b[39m \u001b[33m{\u001b[39m\u001b[33m}\u001b[39m\u001b[0m***\n",
      "  \u001b[0m%6 \u001b[0m= \u001b[96m\u001b[1mload\u001b[22m\u001b[39m \u001b[33m{\u001b[39m\u001b[33m}\u001b[39m\u001b[0m**\u001b[0m, \u001b[33m{\u001b[39m\u001b[33m}\u001b[39m\u001b[0m*** \u001b[0m%pgcstack\u001b[0m, \u001b[95malign\u001b[39m \u001b[33m8\u001b[39m\n",
      "  \u001b[96m\u001b[1mstore\u001b[22m\u001b[39m \u001b[33m{\u001b[39m\u001b[33m}\u001b[39m\u001b[0m** \u001b[0m%6\u001b[0m, \u001b[33m{\u001b[39m\u001b[33m}\u001b[39m\u001b[0m*** \u001b[0m%5\u001b[0m, \u001b[95malign\u001b[39m \u001b[33m8\u001b[39m\n",
      "  \u001b[0m%7 \u001b[0m= \u001b[96m\u001b[1mbitcast\u001b[22m\u001b[39m \u001b[33m{\u001b[39m\u001b[33m}\u001b[39m\u001b[0m*** \u001b[0m%pgcstack \u001b[95mto\u001b[39m \u001b[33m{\u001b[39m\u001b[33m}\u001b[39m\u001b[0m***\n",
      "  \u001b[96m\u001b[1mstore\u001b[22m\u001b[39m \u001b[33m{\u001b[39m\u001b[33m}\u001b[39m\u001b[0m** \u001b[0m%gcframe4.sub\u001b[0m, \u001b[33m{\u001b[39m\u001b[33m}\u001b[39m\u001b[0m*** \u001b[0m%7\u001b[0m, \u001b[95malign\u001b[39m \u001b[33m8\u001b[39m\n",
      "  \u001b[0m%8 \u001b[0m= \u001b[96m\u001b[1mload\u001b[22m\u001b[39m \u001b[95matomic\u001b[39m \u001b[33m{\u001b[39m\u001b[33m}\u001b[39m\u001b[0m*\u001b[0m, \u001b[33m{\u001b[39m\u001b[33m}\u001b[39m\u001b[0m** \u001b[95minttoptr\u001b[39m \u001b[33m(\u001b[39m\u001b[36mi64\u001b[39m \u001b[33m139865927405144\u001b[39m \u001b[95mto\u001b[39m \u001b[33m{\u001b[39m\u001b[33m}\u001b[39m\u001b[0m**\u001b[33m)\u001b[39m \u001b[95munordered\u001b[39m\u001b[0m, \u001b[95malign\u001b[39m \u001b[33m8\u001b[39m\n",
      "  \u001b[0m%9 \u001b[0m= \u001b[96m\u001b[1mgetelementptr\u001b[22m\u001b[39m \u001b[95minbounds\u001b[39m \u001b[33m[\u001b[39m\u001b[33m4\u001b[39m \u001b[0mx \u001b[33m{\u001b[39m\u001b[33m}\u001b[39m\u001b[0m*\u001b[33m]\u001b[39m\u001b[0m, \u001b[33m[\u001b[39m\u001b[33m4\u001b[39m \u001b[0mx \u001b[33m{\u001b[39m\u001b[33m}\u001b[39m\u001b[0m*\u001b[33m]\u001b[39m\u001b[0m* \u001b[0m%gcframe4\u001b[0m, \u001b[36mi64\u001b[39m \u001b[33m0\u001b[39m\u001b[0m, \u001b[36mi64\u001b[39m \u001b[33m2\u001b[39m\n",
      "  \u001b[96m\u001b[1mstore\u001b[22m\u001b[39m \u001b[33m{\u001b[39m\u001b[33m}\u001b[39m\u001b[0m* \u001b[0m%8\u001b[0m, \u001b[33m{\u001b[39m\u001b[33m}\u001b[39m\u001b[0m** \u001b[0m%9\u001b[0m, \u001b[95malign\u001b[39m \u001b[33m16\u001b[39m\n",
      "  \u001b[0m%ptls_field5 \u001b[0m= \u001b[96m\u001b[1mgetelementptr\u001b[22m\u001b[39m \u001b[95minbounds\u001b[39m \u001b[33m{\u001b[39m\u001b[33m}\u001b[39m\u001b[0m**\u001b[0m, \u001b[33m{\u001b[39m\u001b[33m}\u001b[39m\u001b[0m*** \u001b[0m%pgcstack\u001b[0m, \u001b[36mi64\u001b[39m \u001b[33m2\u001b[39m\n",
      "  \u001b[0m%10 \u001b[0m= \u001b[96m\u001b[1mbitcast\u001b[22m\u001b[39m \u001b[33m{\u001b[39m\u001b[33m}\u001b[39m\u001b[0m*** \u001b[0m%ptls_field5 \u001b[95mto\u001b[39m \u001b[36mi8\u001b[39m\u001b[0m**\n",
      "  \u001b[0m%ptls_load67 \u001b[0m= \u001b[96m\u001b[1mload\u001b[22m\u001b[39m \u001b[36mi8\u001b[39m\u001b[0m*\u001b[0m, \u001b[36mi8\u001b[39m\u001b[0m** \u001b[0m%10\u001b[0m, \u001b[95malign\u001b[39m \u001b[33m8\u001b[39m\n",
      "  \u001b[0m%11 \u001b[0m= \u001b[96m\u001b[1mcall\u001b[22m\u001b[39m \u001b[95mnoalias\u001b[39m \u001b[95mnonnull\u001b[39m \u001b[33m{\u001b[39m\u001b[33m}\u001b[39m\u001b[0m* \u001b[93m@ijl_gc_pool_alloc\u001b[39m\u001b[33m(\u001b[39m\u001b[36mi8\u001b[39m\u001b[0m* \u001b[0m%ptls_load67\u001b[0m, \u001b[36mi32\u001b[39m \u001b[33m1392\u001b[39m\u001b[0m, \u001b[36mi32\u001b[39m \u001b[33m16\u001b[39m\u001b[33m)\u001b[39m \u001b[0m#1\n",
      "  \u001b[0m%12 \u001b[0m= \u001b[96m\u001b[1mbitcast\u001b[22m\u001b[39m \u001b[33m{\u001b[39m\u001b[33m}\u001b[39m\u001b[0m* \u001b[0m%11 \u001b[95mto\u001b[39m \u001b[36mi64\u001b[39m\u001b[0m*\n",
      "  \u001b[0m%13 \u001b[0m= \u001b[96m\u001b[1mgetelementptr\u001b[22m\u001b[39m \u001b[95minbounds\u001b[39m \u001b[36mi64\u001b[39m\u001b[0m, \u001b[36mi64\u001b[39m\u001b[0m* \u001b[0m%12\u001b[0m, \u001b[36mi64\u001b[39m \u001b[33m-1\u001b[39m\n",
      "  \u001b[96m\u001b[1mstore\u001b[22m\u001b[39m \u001b[95matomic\u001b[39m \u001b[36mi64\u001b[39m \u001b[33m139865821703536\u001b[39m\u001b[0m, \u001b[36mi64\u001b[39m\u001b[0m* \u001b[0m%13 \u001b[95munordered\u001b[39m\u001b[0m, \u001b[95malign\u001b[39m \u001b[33m8\u001b[39m\n",
      "  \u001b[0m%14 \u001b[0m= \u001b[96m\u001b[1mbitcast\u001b[22m\u001b[39m \u001b[33m{\u001b[39m\u001b[33m}\u001b[39m\u001b[0m* \u001b[0m%11 \u001b[95mto\u001b[39m \u001b[36mdouble\u001b[39m\u001b[0m*\n",
      "  \u001b[96m\u001b[1mstore\u001b[22m\u001b[39m \u001b[36mdouble\u001b[39m \u001b[0m%0\u001b[0m, \u001b[36mdouble\u001b[39m\u001b[0m* \u001b[0m%14\u001b[0m, \u001b[95malign\u001b[39m \u001b[33m8\u001b[39m\n",
      "  \u001b[0m%15 \u001b[0m= \u001b[96m\u001b[1mgetelementptr\u001b[22m\u001b[39m \u001b[95minbounds\u001b[39m \u001b[33m[\u001b[39m\u001b[33m4\u001b[39m \u001b[0mx \u001b[33m{\u001b[39m\u001b[33m}\u001b[39m\u001b[0m*\u001b[33m]\u001b[39m\u001b[0m, \u001b[33m[\u001b[39m\u001b[33m4\u001b[39m \u001b[0mx \u001b[33m{\u001b[39m\u001b[33m}\u001b[39m\u001b[0m*\u001b[33m]\u001b[39m\u001b[0m* \u001b[0m%gcframe4\u001b[0m, \u001b[36mi64\u001b[39m \u001b[33m0\u001b[39m\u001b[0m, \u001b[36mi64\u001b[39m \u001b[33m3\u001b[39m\n",
      "  \u001b[96m\u001b[1mstore\u001b[22m\u001b[39m \u001b[33m{\u001b[39m\u001b[33m}\u001b[39m\u001b[0m* \u001b[0m%11\u001b[0m, \u001b[33m{\u001b[39m\u001b[33m}\u001b[39m\u001b[0m** \u001b[0m%15\u001b[0m, \u001b[95malign\u001b[39m \u001b[33m8\u001b[39m\n",
      "  \u001b[96m\u001b[1mstore\u001b[22m\u001b[39m \u001b[33m{\u001b[39m\u001b[33m}\u001b[39m\u001b[0m* \u001b[0m%11\u001b[0m, \u001b[33m{\u001b[39m\u001b[33m}\u001b[39m\u001b[0m** \u001b[0m%.sub\u001b[0m, \u001b[95malign\u001b[39m \u001b[33m8\u001b[39m\n",
      "  \u001b[0m%16 \u001b[0m= \u001b[96m\u001b[1mgetelementptr\u001b[22m\u001b[39m \u001b[95minbounds\u001b[39m \u001b[33m[\u001b[39m\u001b[33m2\u001b[39m \u001b[0mx \u001b[33m{\u001b[39m\u001b[33m}\u001b[39m\u001b[0m*\u001b[33m]\u001b[39m\u001b[0m, \u001b[33m[\u001b[39m\u001b[33m2\u001b[39m \u001b[0mx \u001b[33m{\u001b[39m\u001b[33m}\u001b[39m\u001b[0m*\u001b[33m]\u001b[39m\u001b[0m* \u001b[0m%1\u001b[0m, \u001b[36mi64\u001b[39m \u001b[33m0\u001b[39m\u001b[0m, \u001b[36mi64\u001b[39m \u001b[33m1\u001b[39m\n",
      "  \u001b[96m\u001b[1mstore\u001b[22m\u001b[39m \u001b[33m{\u001b[39m\u001b[33m}\u001b[39m\u001b[0m* \u001b[0m%8\u001b[0m, \u001b[33m{\u001b[39m\u001b[33m}\u001b[39m\u001b[0m** \u001b[0m%16\u001b[0m, \u001b[95malign\u001b[39m \u001b[33m8\u001b[39m\n",
      "  \u001b[0m%17 \u001b[0m= \u001b[96m\u001b[1mcall\u001b[22m\u001b[39m \u001b[95mnonnull\u001b[39m \u001b[33m{\u001b[39m\u001b[33m}\u001b[39m\u001b[0m* \u001b[93m@ijl_apply_generic\u001b[39m\u001b[33m(\u001b[39m\u001b[33m{\u001b[39m\u001b[33m}\u001b[39m\u001b[0m* \u001b[95minttoptr\u001b[39m \u001b[33m(\u001b[39m\u001b[36mi64\u001b[39m \u001b[33m139865741064048\u001b[39m \u001b[95mto\u001b[39m \u001b[33m{\u001b[39m\u001b[33m}\u001b[39m\u001b[0m*\u001b[33m)\u001b[39m\u001b[0m, \u001b[33m{\u001b[39m\u001b[33m}\u001b[39m\u001b[0m** \u001b[95mnonnull\u001b[39m \u001b[0m%.sub\u001b[0m, \u001b[36mi32\u001b[39m \u001b[33m2\u001b[39m\u001b[33m)\u001b[39m\n",
      "  \u001b[0m%18 \u001b[0m= \u001b[96m\u001b[1mload\u001b[22m\u001b[39m \u001b[33m{\u001b[39m\u001b[33m}\u001b[39m\u001b[0m*\u001b[0m, \u001b[33m{\u001b[39m\u001b[33m}\u001b[39m\u001b[0m** \u001b[0m%4\u001b[0m, \u001b[95malign\u001b[39m \u001b[33m8\u001b[39m\n",
      "  \u001b[0m%19 \u001b[0m= \u001b[96m\u001b[1mbitcast\u001b[22m\u001b[39m \u001b[33m{\u001b[39m\u001b[33m}\u001b[39m\u001b[0m*** \u001b[0m%pgcstack \u001b[95mto\u001b[39m \u001b[33m{\u001b[39m\u001b[33m}\u001b[39m\u001b[0m**\n",
      "  \u001b[96m\u001b[1mstore\u001b[22m\u001b[39m \u001b[33m{\u001b[39m\u001b[33m}\u001b[39m\u001b[0m* \u001b[0m%18\u001b[0m, \u001b[33m{\u001b[39m\u001b[33m}\u001b[39m\u001b[0m** \u001b[0m%19\u001b[0m, \u001b[95malign\u001b[39m \u001b[33m8\u001b[39m\n",
      "\u001b[90m;  @ In[101]:4 within `g`\u001b[39m\n",
      "  \u001b[96m\u001b[1mret\u001b[22m\u001b[39m \u001b[33m{\u001b[39m\u001b[33m}\u001b[39m\u001b[0m* \u001b[0m%17\n",
      "\u001b[33m}\u001b[39m\n"
     ]
    }
   ],
   "source": [
    "@code_llvm(g(1.0))"
   ]
  },
  {
   "cell_type": "markdown",
   "id": "e94ccefc",
   "metadata": {},
   "source": [
    "### Avoid type instability"
   ]
  },
  {
   "cell_type": "markdown",
   "id": "1fa60d59",
   "metadata": {},
   "source": [
    "A function is type stable if the return type depends on its inputs only through their type, not their values."
   ]
  },
  {
   "cell_type": "code",
   "execution_count": 104,
   "id": "069fdf94",
   "metadata": {},
   "outputs": [
    {
     "data": {
      "text/plain": [
       "f (generic function with 2 methods)"
      ]
     },
     "execution_count": 104,
     "metadata": {},
     "output_type": "execute_result"
    }
   ],
   "source": [
    "function f(x)\n",
    "    y = x ≤ 0 ? zero(x) : x\n",
    "    return y\n",
    "end "
   ]
  },
  {
   "cell_type": "markdown",
   "id": "5d45cf45",
   "metadata": {},
   "source": [
    "If I know the input type, then I know the output type."
   ]
  },
  {
   "cell_type": "code",
   "execution_count": 105,
   "id": "dda3b5fa",
   "metadata": {},
   "outputs": [
    {
     "data": {
      "text/plain": [
       "1.0"
      ]
     },
     "execution_count": 105,
     "metadata": {},
     "output_type": "execute_result"
    }
   ],
   "source": [
    "f(1.0)"
   ]
  },
  {
   "cell_type": "code",
   "execution_count": 106,
   "id": "6d7f2d8f",
   "metadata": {},
   "outputs": [
    {
     "data": {
      "text/plain": [
       "1"
      ]
     },
     "execution_count": 106,
     "metadata": {},
     "output_type": "execute_result"
    }
   ],
   "source": [
    "f(1)"
   ]
  },
  {
   "cell_type": "code",
   "execution_count": 107,
   "id": "be0c35c2",
   "metadata": {},
   "outputs": [
    {
     "name": "stdout",
     "output_type": "stream",
     "text": [
      "MethodInstance for f(::Float64)\n",
      "  from f(\u001b[90mx\u001b[39m)\u001b[90m @\u001b[39m \u001b[90mMain\u001b[39m \u001b[90m\u001b[4mIn[104]:1\u001b[24m\u001b[39m\n",
      "Arguments\n",
      "  #self#\u001b[36m::Core.Const(f)\u001b[39m\n",
      "  x\u001b[36m::Float64\u001b[39m\n",
      "Locals\n",
      "  y\u001b[36m::Float64\u001b[39m\n",
      "  @_4\u001b[36m::Float64\u001b[39m\n",
      "Body\u001b[36m::Float64\u001b[39m\n",
      "\u001b[90m1 ─\u001b[39m      Core.NewvarNode(:(y))\n",
      "\u001b[90m│  \u001b[39m %2 = (x ≤ 0)\u001b[36m::Bool\u001b[39m\n",
      "\u001b[90m└──\u001b[39m      goto #3 if not %2\n",
      "\u001b[90m2 ─\u001b[39m      (@_4 = Main.zero(x))\n",
      "\u001b[90m└──\u001b[39m      goto #4\n",
      "\u001b[90m3 ─\u001b[39m      (@_4 = x)\n",
      "\u001b[90m4 ┄\u001b[39m      (y = @_4)\n",
      "\u001b[90m└──\u001b[39m      return y\n",
      "\n"
     ]
    }
   ],
   "source": [
    "@code_warntype(f(1.0))"
   ]
  },
  {
   "cell_type": "markdown",
   "id": "9fd1c11a",
   "metadata": {},
   "source": [
    "Now let's write a function that uses `f`"
   ]
  },
  {
   "cell_type": "code",
   "execution_count": 108,
   "id": "937e10d8",
   "metadata": {},
   "outputs": [
    {
     "data": {
      "text/plain": [
       "test (generic function with 3 methods)"
      ]
     },
     "execution_count": 108,
     "metadata": {},
     "output_type": "execute_result"
    }
   ],
   "source": [
    "function test(f, n=1_000_000)\n",
    "    s = 0.0\n",
    "    for i in 1:n\n",
    "        x = randn()\n",
    "        y = f(x)\n",
    "        s += y\n",
    "    end\n",
    "    return s\n",
    "end"
   ]
  },
  {
   "cell_type": "code",
   "execution_count": 109,
   "id": "62f9d256",
   "metadata": {},
   "outputs": [
    {
     "data": {
      "text/plain": [
       "398918.10313354863"
      ]
     },
     "execution_count": 109,
     "metadata": {},
     "output_type": "execute_result"
    }
   ],
   "source": [
    "test(f)"
   ]
  },
  {
   "cell_type": "code",
   "execution_count": 110,
   "id": "b461b890",
   "metadata": {},
   "outputs": [],
   "source": [
    "using BenchmarkTools"
   ]
  },
  {
   "cell_type": "code",
   "execution_count": 111,
   "id": "91cdae49",
   "metadata": {},
   "outputs": [
    {
     "name": "stdout",
     "output_type": "stream",
     "text": [
      "  3.386 ms (0 allocations: 0 bytes)\n"
     ]
    },
    {
     "data": {
      "text/plain": [
       "398798.7901545716"
      ]
     },
     "execution_count": 111,
     "metadata": {},
     "output_type": "execute_result"
    }
   ],
   "source": [
    "@btime test(f)"
   ]
  },
  {
   "cell_type": "markdown",
   "id": "0df3ea81",
   "metadata": {},
   "source": [
    "The following function is not type stable."
   ]
  },
  {
   "cell_type": "code",
   "execution_count": 112,
   "id": "b879b15b",
   "metadata": {},
   "outputs": [
    {
     "data": {
      "text/plain": [
       "bad_f (generic function with 1 method)"
      ]
     },
     "execution_count": 112,
     "metadata": {},
     "output_type": "execute_result"
    }
   ],
   "source": [
    "function bad_f(x)\n",
    "    if x ≤ 0\n",
    "        out = 0\n",
    "    else\n",
    "        out = x\n",
    "    end\n",
    "    return out\n",
    "end"
   ]
  },
  {
   "cell_type": "code",
   "execution_count": 113,
   "id": "29c6821d",
   "metadata": {},
   "outputs": [
    {
     "data": {
      "text/plain": [
       "0"
      ]
     },
     "execution_count": 113,
     "metadata": {},
     "output_type": "execute_result"
    }
   ],
   "source": [
    "bad_f(-1.0)"
   ]
  },
  {
   "cell_type": "code",
   "execution_count": 114,
   "id": "a4ed4ee9",
   "metadata": {},
   "outputs": [
    {
     "data": {
      "text/plain": [
       "1.0"
      ]
     },
     "execution_count": 114,
     "metadata": {},
     "output_type": "execute_result"
    }
   ],
   "source": [
    "bad_f(1.0)"
   ]
  },
  {
   "cell_type": "code",
   "execution_count": 115,
   "id": "b5d68bc5",
   "metadata": {},
   "outputs": [
    {
     "name": "stdout",
     "output_type": "stream",
     "text": [
      "MethodInstance for bad_f(::Float64)\n",
      "  from bad_f(\u001b[90mx\u001b[39m)\u001b[90m @\u001b[39m \u001b[90mMain\u001b[39m \u001b[90m\u001b[4mIn[112]:1\u001b[24m\u001b[39m\n",
      "Arguments\n",
      "  #self#\u001b[36m::Core.Const(bad_f)\u001b[39m\n",
      "  x\u001b[36m::Float64\u001b[39m\n",
      "Locals\n",
      "  out\u001b[33m\u001b[1m::Union{Float64, Int64}\u001b[22m\u001b[39m\n",
      "Body\u001b[33m\u001b[1m::Union{Float64, Int64}\u001b[22m\u001b[39m\n",
      "\u001b[90m1 ─\u001b[39m      Core.NewvarNode(:(out))\n",
      "\u001b[90m│  \u001b[39m %2 = (x ≤ 0)\u001b[36m::Bool\u001b[39m\n",
      "\u001b[90m└──\u001b[39m      goto #3 if not %2\n",
      "\u001b[90m2 ─\u001b[39m      (out = 0)\n",
      "\u001b[90m└──\u001b[39m      goto #4\n",
      "\u001b[90m3 ─\u001b[39m      (out = x)\n",
      "\u001b[90m4 ┄\u001b[39m      return out\n",
      "\n"
     ]
    }
   ],
   "source": [
    "@code_warntype(bad_f(1.0))"
   ]
  },
  {
   "cell_type": "code",
   "execution_count": 116,
   "id": "ff5de3d9",
   "metadata": {},
   "outputs": [
    {
     "name": "stdout",
     "output_type": "stream",
     "text": [
      "  12.892 ms (0 allocations: 0 bytes)\n"
     ]
    },
    {
     "data": {
      "text/plain": [
       "398063.011332643"
      ]
     },
     "execution_count": 116,
     "metadata": {},
     "output_type": "execute_result"
    }
   ],
   "source": [
    "@btime test(bad_f)"
   ]
  },
  {
   "cell_type": "markdown",
   "id": "09b4d241",
   "metadata": {},
   "source": [
    "### Don't use structs with non-concrete type\n",
    "\n",
    "Structs are used to build your own composite types.\n",
    "\n",
    "This is a rule that you can break sometimes if you are very confident you can anticipate the needs of the compiler --- which is not me, so I stick to the rule."
   ]
  },
  {
   "cell_type": "code",
   "execution_count": 117,
   "id": "c53792eb",
   "metadata": {},
   "outputs": [],
   "source": [
    "struct Foo\n",
    "    a::Real\n",
    "    b::Real\n",
    "end"
   ]
  },
  {
   "cell_type": "code",
   "execution_count": 118,
   "id": "46768ec3",
   "metadata": {},
   "outputs": [
    {
     "data": {
      "text/plain": [
       "add_foo (generic function with 1 method)"
      ]
     },
     "execution_count": 118,
     "metadata": {},
     "output_type": "execute_result"
    }
   ],
   "source": [
    "function add_foo(foo::Foo)\n",
    "    for i in 1:100_000\n",
    "        c = foo.a + foo.b\n",
    "    end\n",
    "end\n",
    "        "
   ]
  },
  {
   "cell_type": "code",
   "execution_count": 119,
   "id": "f753a3be",
   "metadata": {},
   "outputs": [
    {
     "data": {
      "text/plain": [
       "Foo(1, 2.0)"
      ]
     },
     "execution_count": 119,
     "metadata": {},
     "output_type": "execute_result"
    }
   ],
   "source": [
    "foo = Foo(1, 2.0)"
   ]
  },
  {
   "cell_type": "code",
   "execution_count": 120,
   "id": "671e87d5",
   "metadata": {},
   "outputs": [
    {
     "name": "stdout",
     "output_type": "stream",
     "text": [
      "  1.764 ms (100000 allocations: 1.53 MiB)\n"
     ]
    }
   ],
   "source": [
    "@btime add_foo(foo)"
   ]
  },
  {
   "cell_type": "code",
   "execution_count": 121,
   "id": "1cdc3d0b",
   "metadata": {},
   "outputs": [
    {
     "data": {
      "text/plain": [
       "add_numbers (generic function with 1 method)"
      ]
     },
     "execution_count": 121,
     "metadata": {},
     "output_type": "execute_result"
    }
   ],
   "source": [
    "function add_numbers(a, b)\n",
    "    for i in 1:100_000\n",
    "        c = a + b\n",
    "    end\n",
    "end"
   ]
  },
  {
   "cell_type": "code",
   "execution_count": 122,
   "id": "0c808c62",
   "metadata": {},
   "outputs": [
    {
     "name": "stdout",
     "output_type": "stream",
     "text": [
      "  1.828 ns (0 allocations: 0 bytes)\n"
     ]
    }
   ],
   "source": [
    "@btime add_numbers(1, 2.0)"
   ]
  },
  {
   "cell_type": "code",
   "execution_count": null,
   "id": "05126fb2",
   "metadata": {},
   "outputs": [],
   "source": []
  },
  {
   "cell_type": "markdown",
   "id": "02a6947a",
   "metadata": {},
   "source": [
    "## Exercise"
   ]
  },
  {
   "cell_type": "markdown",
   "id": "48f91685",
   "metadata": {},
   "source": [
    "If $F$ is a CDF and $U$ is uniform on $[0, 1]$, then $X = F^{-1}(U)$ has distribution $F$.\n",
    "\n",
    "Using this fact and the `rand()` function for uniform draws, generate `1_000_000` draws from the exponential \n",
    "distribution $F(x) = 1 - \\exp(-\\lambda x)$ when $\\lambda = 2.0$.  Histogram them and plot them against the density, which you can obtain by differentiating $F$.\n",
    "\n",
    "With a large number of bins, the histogram and density should be close."
   ]
  },
  {
   "cell_type": "code",
   "execution_count": 123,
   "id": "28c931de",
   "metadata": {},
   "outputs": [
    {
     "name": "stdout",
     "output_type": "stream",
     "text": [
      "solution below 😬\n",
      "solution below 😬\n",
      "solution below 😬\n",
      "solution below 😬\n",
      "solution below 😬\n",
      "solution below 😬\n",
      "solution below 😬\n",
      "solution below 😬\n",
      "solution below 😬\n",
      "solution below 😬\n",
      "solution below 😬\n",
      "solution below 😬\n",
      "solution below 😬\n",
      "solution below 😬\n",
      "solution below 😬\n",
      "solution below 😬\n",
      "solution below 😬\n",
      "solution below 😬\n",
      "solution below 😬\n",
      "solution below 😬\n"
     ]
    }
   ],
   "source": [
    "for _ in 1:20 println(\"solution below 😬\") end"
   ]
  },
  {
   "cell_type": "code",
   "execution_count": 124,
   "id": "36fd5ce5",
   "metadata": {},
   "outputs": [
    {
     "data": {
      "text/plain": [
       "f (generic function with 2 methods)"
      ]
     },
     "execution_count": 124,
     "metadata": {},
     "output_type": "execute_result"
    }
   ],
   "source": [
    "const λ = 2.0  # breaking my own rule about not using globals\n",
    "\n",
    "F_inv(q) = (- 1 / λ) * log(1 - q)\n",
    "f(x) = λ * exp(-λ * x)"
   ]
  },
  {
   "cell_type": "code",
   "execution_count": 125,
   "id": "b80e3ca9",
   "metadata": {},
   "outputs": [
    {
     "data": {
      "image/png": "[encoded data removed]",
      "text/plain": [
       "Figure(PyObject <Figure size 640x480 with 1 Axes>)"
      ]
     },
     "metadata": {},
     "output_type": "display_data"
    }
   ],
   "source": [
    "U = rand(1_000_000)\n",
    "X = F_inv.(U)\n",
    "x_grid = LinRange(0, maximum(X), 1_000);\n",
    "\n",
    "fig, ax = plt.subplots()\n",
    "ax.hist(X, density=true, bins=100)\n",
    "ax.plot(x_grid, f.(x_grid), lw=2, label=\"density\")\n",
    "ax.legend();"
   ]
  },
  {
   "cell_type": "code",
   "execution_count": null,
   "id": "11bc32dc",
   "metadata": {},
   "outputs": [],
   "source": []
  }
 ],
 "metadata": {
  "kernelspec": {
   "display_name": "Julia 1.9.3",
   "language": "julia",
   "name": "julia-1.9"
  },
  "language_info": {
   "file_extension": ".jl",
   "mimetype": "application/julia",
   "name": "julia",
   "version": "1.9.3"
  }
 },
 "nbformat": 4,
 "nbformat_minor": 5
}
