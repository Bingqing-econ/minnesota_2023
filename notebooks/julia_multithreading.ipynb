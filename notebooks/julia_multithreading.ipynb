{
 "cells": [
  {
   "cell_type": "markdown",
   "id": "5061c732",
   "metadata": {},
   "source": [
    "# Multithreading in Julia\n",
    "\n",
    "This notebook shows how to implement the household median income computation from `numba_multithreading.ipynb` in Julia.\n",
    "\n",
    "Note the use of the `@threads` macro, which takes the place of Numba's `prange` function.\n",
    "\n",
    "On my machine the Julia code runs around 1.5x faster than the Python / Numba code."
   ]
  },
  {
   "cell_type": "code",
   "execution_count": 1,
   "id": "18f926cd",
   "metadata": {},
   "outputs": [],
   "source": [
    "using Distributions"
   ]
  },
  {
   "cell_type": "code",
   "execution_count": 2,
   "id": "b0902cdc",
   "metadata": {},
   "outputs": [],
   "source": [
    "import Base.Threads.@threads"
   ]
  },
  {
   "cell_type": "code",
   "execution_count": 3,
   "id": "549c3510",
   "metadata": {
    "lines_to_next_cell": 2
   },
   "outputs": [
    {
     "data": {
      "text/plain": [
       "h"
      ]
     },
     "execution_count": 3,
     "metadata": {},
     "output_type": "execute_result"
    }
   ],
   "source": [
    "\"\"\"\n",
    "Updates household wealth.\n",
    "\"\"\"\n",
    "function h(w; r=0.1, s=0.3, v1=0.1, v2=1.0)\n",
    "    # Draw shocks\n",
    "    R = exp(v1 * randn()) * (1 + r)\n",
    "    y = exp(v2 * randn())\n",
    "    # Update wealth\n",
    "    return R * s * w + y\n",
    "end"
   ]
  },
  {
   "cell_type": "code",
   "execution_count": 4,
   "id": "9fdf7fc0",
   "metadata": {},
   "outputs": [
    {
     "data": {
      "text/plain": [
       "compute_long_run_median (generic function with 1 method)"
      ]
     },
     "execution_count": 4,
     "metadata": {},
     "output_type": "execute_result"
    }
   ],
   "source": [
    "function compute_long_run_median(; w0=1, \n",
    "                                   T=4000, \n",
    "                                   num_households=200_000)\n",
    "    obs = Array{Float64}(undef, num_households)\n",
    "    @threads for i in 1:num_households\n",
    "        w = w0\n",
    "        for t in 1:T\n",
    "            w = h(w)\n",
    "        end\n",
    "        obs[i] = w\n",
    "    end\n",
    "\n",
    "    return median(obs)\n",
    "end"
   ]
  },
  {
   "cell_type": "code",
   "execution_count": null,
   "id": "05cb64f4",
   "metadata": {
    "lines_to_next_cell": 2
   },
   "outputs": [],
   "source": []
  },
  {
   "cell_type": "code",
   "execution_count": null,
   "id": "6eff7856",
   "metadata": {},
   "outputs": [],
   "source": []
  }
 ],
 "metadata": {
  "jupytext": {
   "cell_metadata_filter": "-all",
   "main_language": "julia",
   "notebook_metadata_filter": "-all"
  },
  "kernelspec": {
   "display_name": "Julia 1.9.3",
   "language": "julia",
   "name": "julia-1.9"
  },
  "language_info": {
   "file_extension": ".jl",
   "mimetype": "application/julia",
   "name": "julia",
   "version": "1.9.3"
  }
 },
 "nbformat": 4,
 "nbformat_minor": 5
}
