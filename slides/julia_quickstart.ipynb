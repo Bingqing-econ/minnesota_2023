{
 "cells": [
  {
   "cell_type": "markdown",
   "id": "a586549e",
   "metadata": {},
   "source": [
    "# Julia Quickstart\n",
    "\n",
    "**John Stachurski** October 2023\n",
    "\n",
    "This is a super quick introduction to Julia for people who already have programming experience in MATLAB, Python, etc.  It requires the following packages:"
   ]
  },
  {
   "cell_type": "code",
   "execution_count": 1,
   "id": "f842fe9c",
   "metadata": {},
   "outputs": [],
   "source": [
    "using PyPlot, Distributions, BenchmarkTools"
   ]
  },
  {
   "cell_type": "markdown",
   "id": "b70bace6",
   "metadata": {},
   "source": [
    "## Syntax --- an example"
   ]
  },
  {
   "cell_type": "code",
   "execution_count": 2,
   "id": "ae66d8df",
   "metadata": {},
   "outputs": [
    {
     "data": {
      "text/plain": [
       "binomial_draw"
      ]
     },
     "execution_count": 2,
     "metadata": {},
     "output_type": "execute_result"
    }
   ],
   "source": [
    "\"\"\"\n",
    "Generate a draw from the Binomial(n, p) distribution, which counts\n",
    "the number of successes, with probability p, in n independent trials.\n",
    "\n",
    "\"\"\"\n",
    "function binomial_draw(n, p)\n",
    "    counter = 0\n",
    "    for i in 1:n\n",
    "        U = rand()        # uniform(0,1) draw\n",
    "        if U < p          # with probability p\n",
    "            counter += 1\n",
    "        end\n",
    "    end\n",
    "    return counter\n",
    "end"
   ]
  },
  {
   "cell_type": "markdown",
   "id": "f03aba0b",
   "metadata": {},
   "source": [
    "Let's generate some draws and plot a histogram."
   ]
  },
  {
   "cell_type": "code",
   "execution_count": 3,
   "id": "f6f703b4",
   "metadata": {},
   "outputs": [],
   "source": [
    "n, p = 40, 0.6\n",
    "num_draws = 10_000_000\n",
    "draws = [binomial_draw(n, p) for i in 1:num_draws];"
   ]
  },
  {
   "cell_type": "code",
   "execution_count": 4,
   "id": "62ef21f8",
   "metadata": {},
   "outputs": [
    {
     "data": {
      "text/plain": [
       "0.0006081000000008885"
      ]
     },
     "execution_count": 4,
     "metadata": {},
     "output_type": "execute_result"
    }
   ],
   "source": [
    "mean(draws) - n * p # should be close to zero"
   ]
  },
  {
   "cell_type": "code",
   "execution_count": 5,
   "id": "3646c6b3",
   "metadata": {},
   "outputs": [
    {
     "data": {
      "text/plain": [
       "0.00030969024535387746"
      ]
     },
     "execution_count": 5,
     "metadata": {},
     "output_type": "execute_result"
    }
   ],
   "source": [
    "var(draws) - n * p * (1 - p) # should be close to zero"
   ]
  },
  {
   "cell_type": "code",
   "execution_count": 6,
   "id": "656c1dca",
   "metadata": {},
   "outputs": [
    {
     "data": {
      "image/png": "[encoded data removed]",
      "text/plain": [
       "Figure(PyObject <Figure size 640x480 with 1 Axes>)"
      ]
     },
     "metadata": {},
     "output_type": "display_data"
    }
   ],
   "source": [
    "fig, ax = plt.subplots()\n",
    "ax.hist(draws, bins=1:n, density=true);"
   ]
  },
  {
   "cell_type": "markdown",
   "id": "d7b275ee",
   "metadata": {},
   "source": [
    "Incidentally, binomial draws can be generated more easily using `Distributions`"
   ]
  },
  {
   "cell_type": "code",
   "execution_count": 7,
   "id": "4c0be510",
   "metadata": {},
   "outputs": [],
   "source": [
    "b = Binomial(n, p)\n",
    "draws = rand(b, num_draws);"
   ]
  },
  {
   "cell_type": "markdown",
   "id": "76cb7d26",
   "metadata": {},
   "source": [
    "## Variables and types\n",
    "\n",
    "### floats, ints, etc"
   ]
  },
  {
   "cell_type": "code",
   "execution_count": 8,
   "id": "12724075",
   "metadata": {},
   "outputs": [
    {
     "data": {
      "text/plain": [
       "Float64"
      ]
     },
     "execution_count": 8,
     "metadata": {},
     "output_type": "execute_result"
    }
   ],
   "source": [
    "x = 1.0\n",
    "typeof(x)"
   ]
  },
  {
   "cell_type": "code",
   "execution_count": 9,
   "id": "0f1a87c9",
   "metadata": {},
   "outputs": [
    {
     "data": {
      "text/plain": [
       "true"
      ]
     },
     "execution_count": 9,
     "metadata": {},
     "output_type": "execute_result"
    }
   ],
   "source": [
    "typeof(x) <: Number"
   ]
  },
  {
   "cell_type": "code",
   "execution_count": 10,
   "id": "9447630b",
   "metadata": {},
   "outputs": [
    {
     "data": {
      "text/plain": [
       "true"
      ]
     },
     "execution_count": 10,
     "metadata": {},
     "output_type": "execute_result"
    }
   ],
   "source": [
    "typeof(x) <: Real"
   ]
  },
  {
   "cell_type": "code",
   "execution_count": 11,
   "id": "e1f2d123",
   "metadata": {},
   "outputs": [
    {
     "data": {
      "text/plain": [
       "false"
      ]
     },
     "execution_count": 11,
     "metadata": {},
     "output_type": "execute_result"
    }
   ],
   "source": [
    "typeof(x) <: String"
   ]
  },
  {
   "cell_type": "code",
   "execution_count": 12,
   "id": "cf0af70b",
   "metadata": {},
   "outputs": [
    {
     "name": "stdout",
     "output_type": "stream",
     "text": [
      "Float64 <: AbstractFloat <: Real <: Number <: Any"
     ]
    }
   ],
   "source": [
    "using Base: show_supertypes\n",
    "show_supertypes(typeof(x))"
   ]
  },
  {
   "cell_type": "code",
   "execution_count": 13,
   "id": "51cb7708",
   "metadata": {},
   "outputs": [
    {
     "data": {
      "text/plain": [
       "Int64"
      ]
     },
     "execution_count": 13,
     "metadata": {},
     "output_type": "execute_result"
    }
   ],
   "source": [
    "y = 2\n",
    "typeof(y)"
   ]
  },
  {
   "cell_type": "code",
   "execution_count": 14,
   "id": "3d11e7a6",
   "metadata": {},
   "outputs": [
    {
     "data": {
      "text/plain": [
       "2"
      ]
     },
     "execution_count": 14,
     "metadata": {},
     "output_type": "execute_result"
    }
   ],
   "source": [
    "y = convert(Int32, y)"
   ]
  },
  {
   "cell_type": "code",
   "execution_count": 15,
   "id": "f75f156d",
   "metadata": {},
   "outputs": [
    {
     "data": {
      "text/plain": [
       "Int32"
      ]
     },
     "execution_count": 15,
     "metadata": {},
     "output_type": "execute_result"
    }
   ],
   "source": [
    "typeof(y)"
   ]
  },
  {
   "cell_type": "markdown",
   "id": "d4c6be75",
   "metadata": {},
   "source": [
    "Automatic type promotion"
   ]
  },
  {
   "cell_type": "code",
   "execution_count": 16,
   "id": "af418362",
   "metadata": {},
   "outputs": [
    {
     "data": {
      "text/plain": [
       "3.0"
      ]
     },
     "execution_count": 16,
     "metadata": {},
     "output_type": "execute_result"
    }
   ],
   "source": [
    "z = x + y"
   ]
  },
  {
   "cell_type": "code",
   "execution_count": 17,
   "id": "cee01e91",
   "metadata": {},
   "outputs": [
    {
     "data": {
      "text/plain": [
       "Float64"
      ]
     },
     "execution_count": 17,
     "metadata": {},
     "output_type": "execute_result"
    }
   ],
   "source": [
    "typeof(z)"
   ]
  },
  {
   "cell_type": "markdown",
   "id": "c585d730",
   "metadata": {},
   "source": [
    "### Container types"
   ]
  },
  {
   "cell_type": "markdown",
   "id": "6b4ae1dd",
   "metadata": {},
   "source": [
    "#### Tuples"
   ]
  },
  {
   "cell_type": "code",
   "execution_count": 18,
   "id": "b6833806",
   "metadata": {},
   "outputs": [
    {
     "data": {
      "text/plain": [
       "(10, 1.0, \"foobar\")"
      ]
     },
     "execution_count": 18,
     "metadata": {},
     "output_type": "execute_result"
    }
   ],
   "source": [
    "vars = 10, 1.0, \"foobar\"   # tuple packing"
   ]
  },
  {
   "cell_type": "code",
   "execution_count": 19,
   "id": "22cc3035",
   "metadata": {},
   "outputs": [
    {
     "data": {
      "text/plain": [
       "Tuple{Int64, Float64, String}"
      ]
     },
     "execution_count": 19,
     "metadata": {},
     "output_type": "execute_result"
    }
   ],
   "source": [
    "typeof(vars)"
   ]
  },
  {
   "cell_type": "code",
   "execution_count": 20,
   "id": "e9166606",
   "metadata": {},
   "outputs": [
    {
     "data": {
      "text/plain": [
       "(10, 1.0, \"foobar\")"
      ]
     },
     "execution_count": 20,
     "metadata": {},
     "output_type": "execute_result"
    }
   ],
   "source": [
    "a, b, c = vars   # tuple unpacking"
   ]
  },
  {
   "cell_type": "code",
   "execution_count": 21,
   "id": "5cfc42df",
   "metadata": {},
   "outputs": [
    {
     "data": {
      "text/plain": [
       "10"
      ]
     },
     "execution_count": 21,
     "metadata": {},
     "output_type": "execute_result"
    }
   ],
   "source": [
    "a"
   ]
  },
  {
   "cell_type": "code",
   "execution_count": 22,
   "id": "353b7a38",
   "metadata": {},
   "outputs": [
    {
     "ename": "LoadError",
     "evalue": "MethodError: no method matching setindex!(::Tuple{Int64, Float64, String}, ::String, ::Int64)",
     "output_type": "error",
     "traceback": [
      "MethodError: no method matching setindex!(::Tuple{Int64, Float64, String}, ::String, ::Int64)",
      "",
      "Stacktrace:",
      " [1] top-level scope",
      "   @ In[22]:1"
     ]
    }
   ],
   "source": [
    "vars[1] = \"foo\"  # tuples are immutable"
   ]
  },
  {
   "cell_type": "markdown",
   "id": "c4157305",
   "metadata": {},
   "source": [
    "#### Arrays"
   ]
  },
  {
   "cell_type": "code",
   "execution_count": 23,
   "id": "0116b5f5",
   "metadata": {},
   "outputs": [
    {
     "data": {
      "text/plain": [
       "3-element Vector{Any}:\n",
       " 10\n",
       "  1.0\n",
       "   \"foobar\""
      ]
     },
     "execution_count": 23,
     "metadata": {},
     "output_type": "execute_result"
    }
   ],
   "source": [
    "vars = [10, 1.0, \"foobar\"]"
   ]
  },
  {
   "cell_type": "code",
   "execution_count": 24,
   "id": "af5902a8",
   "metadata": {},
   "outputs": [
    {
     "data": {
      "text/plain": [
       "\"jstac\""
      ]
     },
     "execution_count": 24,
     "metadata": {},
     "output_type": "execute_result"
    }
   ],
   "source": [
    "vars[1] = \"jstac\""
   ]
  },
  {
   "cell_type": "code",
   "execution_count": 25,
   "id": "1ce0fbfb",
   "metadata": {},
   "outputs": [
    {
     "data": {
      "text/plain": [
       "3-element Vector{Any}:\n",
       "  \"jstac\"\n",
       " 1.0\n",
       "  \"foobar\""
      ]
     },
     "execution_count": 25,
     "metadata": {},
     "output_type": "execute_result"
    }
   ],
   "source": [
    "vars"
   ]
  },
  {
   "cell_type": "code",
   "execution_count": 26,
   "id": "3118e3d9",
   "metadata": {},
   "outputs": [
    {
     "data": {
      "text/plain": [
       "3-element Vector{Float64}:\n",
       " 0.0\n",
       " 0.0\n",
       " 0.0"
      ]
     },
     "execution_count": 26,
     "metadata": {},
     "output_type": "execute_result"
    }
   ],
   "source": [
    "z = zeros(3)"
   ]
  },
  {
   "cell_type": "code",
   "execution_count": 27,
   "id": "56ec5173",
   "metadata": {},
   "outputs": [
    {
     "data": {
      "text/plain": [
       "3-element Vector{Int32}:\n",
       " 0\n",
       " 0\n",
       " 0"
      ]
     },
     "execution_count": 27,
     "metadata": {},
     "output_type": "execute_result"
    }
   ],
   "source": [
    "z = zeros(Int32, 3)"
   ]
  },
  {
   "cell_type": "code",
   "execution_count": 28,
   "id": "7c7547f3",
   "metadata": {},
   "outputs": [
    {
     "data": {
      "text/plain": [
       "3-element Vector{Float64}:\n",
       " 6.93504025252124e-310\n",
       " 6.9350402525228e-310\n",
       " 6.93504333626873e-310"
      ]
     },
     "execution_count": 28,
     "metadata": {},
     "output_type": "execute_result"
    }
   ],
   "source": [
    "z = Array{Float64}(undef, 3)   # \"empty\" array"
   ]
  },
  {
   "cell_type": "markdown",
   "id": "f697bc06",
   "metadata": {},
   "source": [
    "#### NamedTuples"
   ]
  },
  {
   "cell_type": "code",
   "execution_count": 29,
   "id": "082a61ff",
   "metadata": {},
   "outputs": [
    {
     "data": {
      "text/plain": [
       "(a = 10, b = 2.0, c = \"foobar\")"
      ]
     },
     "execution_count": 29,
     "metadata": {},
     "output_type": "execute_result"
    }
   ],
   "source": [
    "z = (; a=10, b=2.0, c=\"foobar\")  # building a NamedTuple"
   ]
  },
  {
   "cell_type": "code",
   "execution_count": 30,
   "id": "b8dfd872",
   "metadata": {},
   "outputs": [
    {
     "data": {
      "text/plain": [
       "NamedTuple{(:a, :b, :c), Tuple{Int64, Float64, String}}"
      ]
     },
     "execution_count": 30,
     "metadata": {},
     "output_type": "execute_result"
    }
   ],
   "source": [
    "typeof(z)"
   ]
  },
  {
   "cell_type": "code",
   "execution_count": 31,
   "id": "c4725df6",
   "metadata": {},
   "outputs": [
    {
     "data": {
      "text/plain": [
       "10"
      ]
     },
     "execution_count": 31,
     "metadata": {},
     "output_type": "execute_result"
    }
   ],
   "source": [
    "z.a"
   ]
  },
  {
   "cell_type": "code",
   "execution_count": 32,
   "id": "e2a15b5b",
   "metadata": {},
   "outputs": [
    {
     "data": {
      "text/plain": [
       "2.0"
      ]
     },
     "execution_count": 32,
     "metadata": {},
     "output_type": "execute_result"
    }
   ],
   "source": [
    "z.b"
   ]
  },
  {
   "cell_type": "code",
   "execution_count": 33,
   "id": "a44d52ec",
   "metadata": {},
   "outputs": [
    {
     "ename": "LoadError",
     "evalue": "setfield!: immutable struct of type NamedTuple cannot be changed",
     "output_type": "error",
     "traceback": [
      "setfield!: immutable struct of type NamedTuple cannot be changed",
      "",
      "Stacktrace:",
      " [1] setproperty!(x::NamedTuple{(:a, :b, :c), Tuple{Int64, Float64, String}}, f::Symbol, v::Int64)",
      "   @ Base ./Base.jl:38",
      " [2] top-level scope",
      "   @ In[33]:1"
     ]
    }
   ],
   "source": [
    "z.b = 12"
   ]
  },
  {
   "cell_type": "code",
   "execution_count": 34,
   "id": "fbf5a7ca",
   "metadata": {},
   "outputs": [
    {
     "data": {
      "text/plain": [
       "(a = 10, b = 2.0, c = \"foobar\")"
      ]
     },
     "execution_count": 34,
     "metadata": {},
     "output_type": "execute_result"
    }
   ],
   "source": [
    "(; c, b) = z   # unpacking by name"
   ]
  },
  {
   "cell_type": "code",
   "execution_count": 35,
   "id": "baa114a1",
   "metadata": {},
   "outputs": [
    {
     "data": {
      "text/plain": [
       "2.0"
      ]
     },
     "execution_count": 35,
     "metadata": {},
     "output_type": "execute_result"
    }
   ],
   "source": [
    "b"
   ]
  },
  {
   "cell_type": "code",
   "execution_count": 36,
   "id": "bcec38a8",
   "metadata": {},
   "outputs": [
    {
     "data": {
      "text/plain": [
       "\"foobar\""
      ]
     },
     "execution_count": 36,
     "metadata": {},
     "output_type": "execute_result"
    }
   ],
   "source": [
    "c"
   ]
  },
  {
   "cell_type": "markdown",
   "id": "9463471e",
   "metadata": {},
   "source": [
    "#### Abstract arrays"
   ]
  },
  {
   "cell_type": "code",
   "execution_count": 37,
   "id": "1ee036dd",
   "metadata": {},
   "outputs": [],
   "source": [
    "x = [i * 0.001 for i in 0:1000];"
   ]
  },
  {
   "cell_type": "code",
   "execution_count": 38,
   "id": "722d48de",
   "metadata": {},
   "outputs": [
    {
     "data": {
      "text/plain": [
       "(0.0, 1.0)"
      ]
     },
     "execution_count": 38,
     "metadata": {},
     "output_type": "execute_result"
    }
   ],
   "source": [
    "minimum(x), maximum(x)"
   ]
  },
  {
   "cell_type": "code",
   "execution_count": 39,
   "id": "e3431d4b",
   "metadata": {},
   "outputs": [
    {
     "name": "stdout",
     "output_type": "stream",
     "text": [
      "Vector{Float64} <: DenseVector{Float64} <: AbstractVector{Float64} <: Any"
     ]
    }
   ],
   "source": [
    "show_supertypes(typeof(x))"
   ]
  },
  {
   "cell_type": "code",
   "execution_count": 40,
   "id": "0d3133d5",
   "metadata": {},
   "outputs": [
    {
     "data": {
      "text/plain": [
       "1001-element LinRange{Float64, Int64}:\n",
       " 0.0, 0.001, 0.002, 0.003, 0.004, 0.005, …, 0.996, 0.997, 0.998, 0.999, 1.0"
      ]
     },
     "execution_count": 40,
     "metadata": {},
     "output_type": "execute_result"
    }
   ],
   "source": [
    "y = LinRange(0, 1, 1001)   # memory efficient linear grid"
   ]
  },
  {
   "cell_type": "code",
   "execution_count": 41,
   "id": "9981f8b5",
   "metadata": {},
   "outputs": [
    {
     "name": "stdout",
     "output_type": "stream",
     "text": [
      "LinRange{Float64, Int64} <: AbstractRange{Float64} <: AbstractVector{Float64} <: Any"
     ]
    }
   ],
   "source": [
    "show_supertypes(typeof(y))"
   ]
  },
  {
   "cell_type": "code",
   "execution_count": 42,
   "id": "b458a8d0",
   "metadata": {},
   "outputs": [
    {
     "data": {
      "text/plain": [
       "false"
      ]
     },
     "execution_count": 42,
     "metadata": {},
     "output_type": "execute_result"
    }
   ],
   "source": [
    "x == y"
   ]
  },
  {
   "cell_type": "code",
   "execution_count": 43,
   "id": "e9d2f55e",
   "metadata": {},
   "outputs": [
    {
     "data": {
      "text/plain": [
       "true"
      ]
     },
     "execution_count": 43,
     "metadata": {},
     "output_type": "execute_result"
    }
   ],
   "source": [
    "isapprox(x, y)"
   ]
  },
  {
   "cell_type": "code",
   "execution_count": 44,
   "id": "578a498f",
   "metadata": {},
   "outputs": [
    {
     "data": {
      "text/latex": [
       "\\begin{tabular}\n",
       "{l | r | l}\n",
       "name & size & summary \\\\\n",
       "\\hline\n",
       "ax & 8 bytes & PyCall.PyObject \\\\\n",
       "x & 7.859 KiB & 1001-element Vector\\{Float64\\} \\\\\n",
       "\\end{tabular}\n"
      ],
      "text/markdown": [
       "| name |      size | summary                      |\n",
       "|:---- | ---------:|:---------------------------- |\n",
       "| ax   |   8 bytes | PyCall.PyObject              |\n",
       "| x    | 7.859 KiB | 1001-element Vector{Float64} |\n"
      ],
      "text/plain": [
       "  name      size summary                     \n",
       "  –––– ––––––––– ––––––––––––––––––––––––––––\n",
       "  ax     8 bytes PyCall.PyObject             \n",
       "  x    7.859 KiB 1001-element Vector{Float64}"
      ]
     },
     "execution_count": 44,
     "metadata": {},
     "output_type": "execute_result"
    }
   ],
   "source": [
    "varinfo(r\"x\")"
   ]
  },
  {
   "cell_type": "code",
   "execution_count": 45,
   "id": "f48ca9bc",
   "metadata": {},
   "outputs": [
    {
     "data": {
      "text/latex": [
       "\\begin{tabular}\n",
       "{l | r | l}\n",
       "name & size & summary \\\\\n",
       "\\hline\n",
       "y & 32 bytes & 1001-element LinRange\\{Float64, Int64\\} \\\\\n",
       "\\end{tabular}\n"
      ],
      "text/markdown": [
       "| name |     size | summary                               |\n",
       "|:---- | --------:|:------------------------------------- |\n",
       "| y    | 32 bytes | 1001-element LinRange{Float64, Int64} |\n"
      ],
      "text/plain": [
       "  name     size summary                              \n",
       "  –––– –––––––– –––––––––––––––––––––––––––––––––––––\n",
       "  y    32 bytes 1001-element LinRange{Float64, Int64}"
      ]
     },
     "execution_count": 45,
     "metadata": {},
     "output_type": "execute_result"
    }
   ],
   "source": [
    "varinfo(r\"y\")"
   ]
  },
  {
   "cell_type": "markdown",
   "id": "4749f397",
   "metadata": {},
   "source": [
    "## Names and data"
   ]
  },
  {
   "cell_type": "markdown",
   "id": "eab113e2",
   "metadata": {},
   "source": [
    "In the code"
   ]
  },
  {
   "cell_type": "code",
   "execution_count": 98,
   "id": "14315d9c",
   "metadata": {},
   "outputs": [
    {
     "data": {
      "text/plain": [
       "3-element Vector{Float64}:\n",
       " 1.6224621622111215\n",
       " 0.19053790524247688\n",
       " 0.9536631820508188"
      ]
     },
     "execution_count": 98,
     "metadata": {},
     "output_type": "execute_result"
    }
   ],
   "source": [
    "a = randn(3)"
   ]
  },
  {
   "cell_type": "markdown",
   "id": "51ac46bf",
   "metadata": {},
   "source": [
    "the name `a` is bound to the `Vector{Float64}` object created in memory"
   ]
  },
  {
   "cell_type": "markdown",
   "id": "2c019ba4",
   "metadata": {},
   "source": [
    "If we now write"
   ]
  },
  {
   "cell_type": "code",
   "execution_count": 99,
   "id": "4f0dcb52",
   "metadata": {},
   "outputs": [],
   "source": [
    "b = a;"
   ]
  },
  {
   "cell_type": "markdown",
   "id": "3a0b97ef",
   "metadata": {},
   "source": [
    "then the name `b` is bound to the same object --- the data is **not** copied."
   ]
  },
  {
   "cell_type": "code",
   "execution_count": 100,
   "id": "27162c49",
   "metadata": {},
   "outputs": [
    {
     "data": {
      "text/plain": [
       "3-element Vector{Float64}:\n",
       " 1.6224621622111215\n",
       " 0.19053790524247688\n",
       " 0.9536631820508188"
      ]
     },
     "execution_count": 100,
     "metadata": {},
     "output_type": "execute_result"
    }
   ],
   "source": [
    "b"
   ]
  },
  {
   "cell_type": "code",
   "execution_count": 101,
   "id": "16f2b7d9",
   "metadata": {},
   "outputs": [
    {
     "data": {
      "text/plain": [
       "Ptr{Float64} @0x00007fa9b0fe43b0"
      ]
     },
     "execution_count": 101,
     "metadata": {},
     "output_type": "execute_result"
    }
   ],
   "source": [
    "pointer(b)"
   ]
  },
  {
   "cell_type": "code",
   "execution_count": 102,
   "id": "d8ec910a",
   "metadata": {},
   "outputs": [
    {
     "data": {
      "text/plain": [
       "Ptr{Float64} @0x00007fa9b0fe43b0"
      ]
     },
     "execution_count": 102,
     "metadata": {},
     "output_type": "execute_result"
    }
   ],
   "source": [
    "pointer(a)"
   ]
  },
  {
   "cell_type": "markdown",
   "id": "5ed105ea",
   "metadata": {},
   "source": [
    "This means that mutating `b` also mutates `a`"
   ]
  },
  {
   "cell_type": "code",
   "execution_count": 103,
   "id": "2e42ddbd",
   "metadata": {},
   "outputs": [
    {
     "data": {
      "text/plain": [
       "42.0"
      ]
     },
     "execution_count": 103,
     "metadata": {},
     "output_type": "execute_result"
    }
   ],
   "source": [
    "b[1] = 42.0"
   ]
  },
  {
   "cell_type": "code",
   "execution_count": 104,
   "id": "f1eac7b4",
   "metadata": {},
   "outputs": [
    {
     "data": {
      "text/plain": [
       "3-element Vector{Float64}:\n",
       " 42.0\n",
       "  0.19053790524247688\n",
       "  0.9536631820508188"
      ]
     },
     "execution_count": 104,
     "metadata": {},
     "output_type": "execute_result"
    }
   ],
   "source": [
    "b"
   ]
  },
  {
   "cell_type": "code",
   "execution_count": 105,
   "id": "c8aa15dd",
   "metadata": {},
   "outputs": [
    {
     "data": {
      "text/plain": [
       "3-element Vector{Float64}:\n",
       " 42.0\n",
       "  0.19053790524247688\n",
       "  0.9536631820508188"
      ]
     },
     "execution_count": 105,
     "metadata": {},
     "output_type": "execute_result"
    }
   ],
   "source": [
    "a"
   ]
  },
  {
   "cell_type": "markdown",
   "id": "e33952ed",
   "metadata": {},
   "source": [
    "To create a copy use"
   ]
  },
  {
   "cell_type": "code",
   "execution_count": 108,
   "id": "b0b5c756",
   "metadata": {},
   "outputs": [],
   "source": [
    "c = copy(a);"
   ]
  },
  {
   "cell_type": "code",
   "execution_count": 109,
   "id": "0c787034",
   "metadata": {},
   "outputs": [
    {
     "data": {
      "text/plain": [
       "3-element Vector{Float64}:\n",
       " 42.0\n",
       "  0.19053790524247688\n",
       "  0.9536631820508188"
      ]
     },
     "execution_count": 109,
     "metadata": {},
     "output_type": "execute_result"
    }
   ],
   "source": [
    "c"
   ]
  },
  {
   "cell_type": "code",
   "execution_count": 110,
   "id": "619b458b",
   "metadata": {},
   "outputs": [
    {
     "data": {
      "text/plain": [
       "Ptr{Float64} @0x00007fa957967240"
      ]
     },
     "execution_count": 110,
     "metadata": {},
     "output_type": "execute_result"
    }
   ],
   "source": [
    "pointer(c)"
   ]
  },
  {
   "cell_type": "code",
   "execution_count": 111,
   "id": "6eb803af",
   "metadata": {},
   "outputs": [
    {
     "data": {
      "text/plain": [
       "Ptr{Float64} @0x00007fa9b0fe43b0"
      ]
     },
     "execution_count": 111,
     "metadata": {},
     "output_type": "execute_result"
    }
   ],
   "source": [
    "pointer(a)"
   ]
  },
  {
   "cell_type": "markdown",
   "id": "6813091b",
   "metadata": {},
   "source": [
    "Since `c` and `a` are bound to different data, I can mutate one without changing the other."
   ]
  },
  {
   "cell_type": "code",
   "execution_count": 118,
   "id": "856f054c",
   "metadata": {},
   "outputs": [],
   "source": [
    "c[:] .= 10.0 ;    "
   ]
  },
  {
   "cell_type": "code",
   "execution_count": 119,
   "id": "499aa812",
   "metadata": {},
   "outputs": [
    {
     "data": {
      "text/plain": [
       "3-element Vector{Float64}:\n",
       " 10.0\n",
       " 10.0\n",
       " 10.0"
      ]
     },
     "execution_count": 119,
     "metadata": {},
     "output_type": "execute_result"
    }
   ],
   "source": [
    "c"
   ]
  },
  {
   "cell_type": "code",
   "execution_count": 120,
   "id": "1e4a30c7",
   "metadata": {},
   "outputs": [
    {
     "data": {
      "text/plain": [
       "3-element Vector{Float64}:\n",
       " 42.0\n",
       "  0.19053790524247688\n",
       "  0.9536631820508188"
      ]
     },
     "execution_count": 120,
     "metadata": {},
     "output_type": "execute_result"
    }
   ],
   "source": [
    "a"
   ]
  },
  {
   "cell_type": "markdown",
   "id": "74519559",
   "metadata": {},
   "source": [
    "## Flow Control\n",
    "\n",
    "### Basics"
   ]
  },
  {
   "cell_type": "code",
   "execution_count": 47,
   "id": "10908c43",
   "metadata": {},
   "outputs": [
    {
     "data": {
      "text/plain": [
       "3-element Vector{Float64}:\n",
       " -1.3540149524182823\n",
       "  0.17526568177347415\n",
       " -0.8508677530144726"
      ]
     },
     "execution_count": 47,
     "metadata": {},
     "output_type": "execute_result"
    }
   ],
   "source": [
    "vals = randn(3)"
   ]
  },
  {
   "cell_type": "code",
   "execution_count": 48,
   "id": "f42dd117",
   "metadata": {},
   "outputs": [
    {
     "name": "stdout",
     "output_type": "stream",
     "text": [
      "absolute value of element 1 is 1.3540149524182823\n",
      "absolute value of element 2 is 0.17526568177347415\n",
      "absolute value of element 3 is 0.8508677530144726\n"
     ]
    }
   ],
   "source": [
    "for (i, v) in enumerate(vals)\n",
    "    if v < 0\n",
    "        v = -v\n",
    "    end\n",
    "    println(\"absolute value of element $i is $v\")\n",
    "end"
   ]
  },
  {
   "cell_type": "code",
   "execution_count": 49,
   "id": "baf66925",
   "metadata": {},
   "outputs": [
    {
     "data": {
      "text/plain": [
       "3-element Vector{Float64}:\n",
       " -1.3540149524182823\n",
       "  0.17526568177347415\n",
       " -0.8508677530144726"
      ]
     },
     "execution_count": 49,
     "metadata": {},
     "output_type": "execute_result"
    }
   ],
   "source": [
    "vals"
   ]
  },
  {
   "cell_type": "markdown",
   "id": "bfcb46fa",
   "metadata": {},
   "source": [
    "### Functions"
   ]
  },
  {
   "cell_type": "markdown",
   "id": "d9f5446f",
   "metadata": {},
   "source": [
    "#### Basic syntax"
   ]
  },
  {
   "cell_type": "code",
   "execution_count": 121,
   "id": "f26f3fd9",
   "metadata": {},
   "outputs": [
    {
     "data": {
      "text/plain": [
       "f"
      ]
     },
     "execution_count": 121,
     "metadata": {},
     "output_type": "execute_result"
    }
   ],
   "source": [
    "\"\"\"\n",
    "This is the docstring of the function.\n",
    "\n",
    "The function has \n",
    "\n",
    "    one positional arg a\n",
    "    one positional arg with default value b\n",
    "    two keyword args with defaults c, d\n",
    "\"\"\"\n",
    "function f(a, b=10; c=20, d=30) \n",
    "    return a + b + c + b\n",
    "end"
   ]
  },
  {
   "cell_type": "code",
   "execution_count": 51,
   "id": "cf08119e",
   "metadata": {},
   "outputs": [
    {
     "data": {
      "text/plain": [
       "50"
      ]
     },
     "execution_count": 51,
     "metadata": {},
     "output_type": "execute_result"
    }
   ],
   "source": [
    "f(10)"
   ]
  },
  {
   "cell_type": "code",
   "execution_count": 124,
   "id": "a5a17330",
   "metadata": {},
   "outputs": [
    {
     "ename": "LoadError",
     "evalue": "MethodError: no method matching f(::Int64, ::Int64; b::Int64)\n\n\u001b[0mClosest candidates are:\n\u001b[0m  f(::Any, ::Any; c, d)\u001b[91m got unsupported keyword argument \"b\"\u001b[39m\n\u001b[0m\u001b[90m   @\u001b[39m \u001b[35mMain\u001b[39m \u001b[90m\u001b[4mIn[121]:9\u001b[24m\u001b[39m\n\u001b[0m  f(::Any)\u001b[91m got unsupported keyword argument \"b\"\u001b[39m\n\u001b[0m\u001b[90m   @\u001b[39m \u001b[35mMain\u001b[39m \u001b[90m\u001b[4mIn[121]:9\u001b[24m\u001b[39m\n",
     "output_type": "error",
     "traceback": [
      "MethodError: no method matching f(::Int64, ::Int64; b::Int64)\n\n\u001b[0mClosest candidates are:\n\u001b[0m  f(::Any, ::Any; c, d)\u001b[91m got unsupported keyword argument \"b\"\u001b[39m\n\u001b[0m\u001b[90m   @\u001b[39m \u001b[35mMain\u001b[39m \u001b[90m\u001b[4mIn[121]:9\u001b[24m\u001b[39m\n\u001b[0m  f(::Any)\u001b[91m got unsupported keyword argument \"b\"\u001b[39m\n\u001b[0m\u001b[90m   @\u001b[39m \u001b[35mMain\u001b[39m \u001b[90m\u001b[4mIn[121]:9\u001b[24m\u001b[39m\n",
      "",
      "Stacktrace:",
      " [1] kwerr(::NamedTuple{(:b,), Tuple{Int64}}, ::Function, ::Int64, ::Int64)",
      "   @ Base ./error.jl:165",
      " [2] top-level scope",
      "   @ In[124]:1"
     ]
    }
   ],
   "source": [
    "f(10, b=100)  # wrong because b is not a keyword argument"
   ]
  },
  {
   "cell_type": "code",
   "execution_count": 125,
   "id": "d4c3c001",
   "metadata": {},
   "outputs": [
    {
     "data": {
      "text/plain": [
       "230"
      ]
     },
     "execution_count": 125,
     "metadata": {},
     "output_type": "execute_result"
    }
   ],
   "source": [
    "f(10, 100)   # calls with a=10 and b=100"
   ]
  },
  {
   "cell_type": "code",
   "execution_count": 127,
   "id": "be01870e",
   "metadata": {},
   "outputs": [
    {
     "data": {
      "text/plain": [
       "50"
      ]
     },
     "execution_count": 127,
     "metadata": {},
     "output_type": "execute_result"
    }
   ],
   "source": [
    "f(10, d=100)  # OK because d is a keyword argument"
   ]
  },
  {
   "cell_type": "markdown",
   "id": "4ca0574d",
   "metadata": {},
   "source": [
    "#### A more complex example\n",
    "\n",
    "The next example illustrates\n",
    "\n",
    "* passing a function to a function\n",
    "* multiple dispatch"
   ]
  },
  {
   "cell_type": "code",
   "execution_count": 54,
   "id": "66c30dc0",
   "metadata": {},
   "outputs": [
    {
     "data": {
      "text/plain": [
       "successive_approximation (generic function with 1 method)"
      ]
     },
     "execution_count": 54,
     "metadata": {},
     "output_type": "execute_result"
    }
   ],
   "source": [
    "function successive_approximation(f, x0::Real; max_iter=100_000, tol=1e-6)\n",
    "    println(\"Applying successive approximation starting at scalar $x0\")\n",
    "    error = Inf\n",
    "    i = 0\n",
    "    x = x0\n",
    "    while error > tol && i < max_iter\n",
    "        x_new = f(x)\n",
    "        error = abs.(x_new - x)\n",
    "        x = x_new\n",
    "        i += 1\n",
    "    end\n",
    "    return x\n",
    "end"
   ]
  },
  {
   "cell_type": "code",
   "execution_count": 55,
   "id": "f0fb89d4",
   "metadata": {},
   "outputs": [
    {
     "data": {
      "text/plain": [
       "successive_approximation (generic function with 2 methods)"
      ]
     },
     "execution_count": 55,
     "metadata": {},
     "output_type": "execute_result"
    }
   ],
   "source": [
    "function successive_approximation(f, x0::Vector; max_iter=100_000, tol=1e-6)\n",
    "    println(\"Applying successive approximation starting at vector $x0\")\n",
    "    error = Inf\n",
    "    i = 0\n",
    "    x = x0\n",
    "    while error > tol && i < max_iter\n",
    "        x_new = f(x)\n",
    "        error = maximum(abs.(x_new - x))   # added maximum \n",
    "        x = x_new\n",
    "        i += 1\n",
    "    end\n",
    "    return x\n",
    "end"
   ]
  },
  {
   "cell_type": "code",
   "execution_count": 56,
   "id": "d0a1f09f",
   "metadata": {},
   "outputs": [
    {
     "name": "stdout",
     "output_type": "stream",
     "text": [
      "Applying successive approximation starting at scalar 100\n"
     ]
    },
    {
     "data": {
      "text/plain": [
       "7.450580596923828e-7"
      ]
     },
     "execution_count": 56,
     "metadata": {},
     "output_type": "execute_result"
    }
   ],
   "source": [
    "f(x) = 0.5x\n",
    "successive_approximation(f, 100)"
   ]
  },
  {
   "cell_type": "code",
   "execution_count": 57,
   "id": "910310cb",
   "metadata": {},
   "outputs": [
    {
     "data": {
      "text/plain": [
       "2×2 Matrix{Float64}:\n",
       " 0.286002  0.140703\n",
       " 0.119347  0.195809"
      ]
     },
     "execution_count": 57,
     "metadata": {},
     "output_type": "execute_result"
    }
   ],
   "source": [
    "A = rand(2, 2) * 0.5"
   ]
  },
  {
   "cell_type": "code",
   "execution_count": 58,
   "id": "aa5bd1a9",
   "metadata": {},
   "outputs": [
    {
     "data": {
      "text/plain": [
       "f (generic function with 2 methods)"
      ]
     },
     "execution_count": 58,
     "metadata": {},
     "output_type": "execute_result"
    }
   ],
   "source": [
    "f(x) = A * x"
   ]
  },
  {
   "cell_type": "code",
   "execution_count": 59,
   "id": "939e9892",
   "metadata": {},
   "outputs": [
    {
     "name": "stdout",
     "output_type": "stream",
     "text": [
      "Applying successive approximation starting at vector [1.0, 1.0]\n"
     ]
    },
    {
     "data": {
      "text/plain": [
       "2-element Vector{Float64}:\n",
       " 5.434370358181803e-7\n",
       " 3.557625356268153e-7"
      ]
     },
     "execution_count": 59,
     "metadata": {},
     "output_type": "execute_result"
    }
   ],
   "source": [
    "successive_approximation(f, ones(2))"
   ]
  },
  {
   "cell_type": "markdown",
   "id": "ad34171f",
   "metadata": {},
   "source": [
    "### Local scope"
   ]
  },
  {
   "cell_type": "markdown",
   "id": "48efb7fe",
   "metadata": {},
   "source": [
    "#### Local scope in functions"
   ]
  },
  {
   "cell_type": "code",
   "execution_count": 60,
   "id": "35348671",
   "metadata": {},
   "outputs": [
    {
     "data": {
      "text/plain": [
       "test (generic function with 1 method)"
      ]
     },
     "execution_count": 60,
     "metadata": {},
     "output_type": "execute_result"
    }
   ],
   "source": [
    "x = 10\n",
    "function test()\n",
    "    x = \"foobar\"\n",
    "    print(x)\n",
    "end"
   ]
  },
  {
   "cell_type": "code",
   "execution_count": 61,
   "id": "68394532",
   "metadata": {},
   "outputs": [
    {
     "name": "stdout",
     "output_type": "stream",
     "text": [
      "foobar"
     ]
    }
   ],
   "source": [
    "test()"
   ]
  },
  {
   "cell_type": "code",
   "execution_count": 62,
   "id": "3ec8ceae",
   "metadata": {},
   "outputs": [
    {
     "data": {
      "text/plain": [
       "10"
      ]
     },
     "execution_count": 62,
     "metadata": {},
     "output_type": "execute_result"
    }
   ],
   "source": [
    "x  # global x is not affected"
   ]
  },
  {
   "cell_type": "markdown",
   "id": "007215ea",
   "metadata": {},
   "source": [
    "#### Local scope in loops"
   ]
  },
  {
   "cell_type": "code",
   "execution_count": 63,
   "id": "f78c7f62",
   "metadata": {},
   "outputs": [
    {
     "data": {
      "text/plain": [
       "3-element Vector{Float64}:\n",
       " -0.34748126086167846\n",
       " -1.5939316550279452\n",
       " -0.6924705860979021"
      ]
     },
     "execution_count": 63,
     "metadata": {},
     "output_type": "execute_result"
    }
   ],
   "source": [
    "vals = randn(3)"
   ]
  },
  {
   "cell_type": "markdown",
   "id": "f883ace6",
   "metadata": {},
   "source": [
    "Compare"
   ]
  },
  {
   "cell_type": "code",
   "execution_count": 64,
   "id": "ae895dc1",
   "metadata": {},
   "outputs": [],
   "source": [
    "s = 0.0\n",
    "a = \"foo\"\n",
    "for v in vals\n",
    "    a = abs(v)  # overwrites global a\n",
    "    s += a\n",
    "end"
   ]
  },
  {
   "cell_type": "code",
   "execution_count": 65,
   "id": "7aeda969",
   "metadata": {},
   "outputs": [
    {
     "data": {
      "text/plain": [
       "0.6924705860979021"
      ]
     },
     "execution_count": 65,
     "metadata": {},
     "output_type": "execute_result"
    }
   ],
   "source": [
    "a"
   ]
  },
  {
   "cell_type": "markdown",
   "id": "669da847",
   "metadata": {},
   "source": [
    "and"
   ]
  },
  {
   "cell_type": "code",
   "execution_count": 66,
   "id": "7e71c79a",
   "metadata": {},
   "outputs": [],
   "source": [
    "s = 0.0\n",
    "a = \"foo\"\n",
    "for v in vals\n",
    "    local a = abs(v)  # preserves global a\n",
    "    s += a\n",
    "end"
   ]
  },
  {
   "cell_type": "code",
   "execution_count": 67,
   "id": "f3267bf5",
   "metadata": {},
   "outputs": [
    {
     "data": {
      "text/plain": [
       "\"foo\""
      ]
     },
     "execution_count": 67,
     "metadata": {},
     "output_type": "execute_result"
    }
   ],
   "source": [
    "a"
   ]
  },
  {
   "cell_type": "markdown",
   "id": "871a2d0a",
   "metadata": {},
   "source": [
    "If a global variable does not exist, local variables are destroyed after the loop terminates."
   ]
  },
  {
   "cell_type": "code",
   "execution_count": 68,
   "id": "97b9159c",
   "metadata": {},
   "outputs": [],
   "source": [
    "s = 0.0\n",
    "for v in vals\n",
    "    new_var = abs(v)  # overwrites global a\n",
    "    s += new_var\n",
    "end"
   ]
  },
  {
   "cell_type": "code",
   "execution_count": 69,
   "id": "9ad0525e",
   "metadata": {},
   "outputs": [
    {
     "ename": "LoadError",
     "evalue": "UndefVarError: `new_var` not defined",
     "output_type": "error",
     "traceback": [
      "UndefVarError: `new_var` not defined",
      ""
     ]
    }
   ],
   "source": [
    "new_var"
   ]
  },
  {
   "cell_type": "markdown",
   "id": "e637f1b3",
   "metadata": {},
   "source": [
    "## Performance tips"
   ]
  },
  {
   "cell_type": "markdown",
   "id": "dc9c0bc7",
   "metadata": {},
   "source": [
    "* all time-critical code should be written in functions\n",
    "* avoid globals or declare them as const\n",
    "* preserve type stability of functions"
   ]
  },
  {
   "cell_type": "markdown",
   "id": "1489af8c",
   "metadata": {},
   "source": [
    "### Minimize globals"
   ]
  },
  {
   "cell_type": "markdown",
   "id": "1407da0f",
   "metadata": {},
   "source": [
    "Here's a pure function"
   ]
  },
  {
   "cell_type": "code",
   "execution_count": 70,
   "id": "efa233fa",
   "metadata": {},
   "outputs": [
    {
     "data": {
      "text/plain": [
       "f (generic function with 2 methods)"
      ]
     },
     "execution_count": 70,
     "metadata": {},
     "output_type": "execute_result"
    }
   ],
   "source": [
    "function f(x, a=1.0)\n",
    "    y = x + a\n",
    "    return y\n",
    "end"
   ]
  },
  {
   "cell_type": "code",
   "execution_count": 71,
   "id": "744e72a6",
   "metadata": {},
   "outputs": [
    {
     "name": "stdout",
     "output_type": "stream",
     "text": [
      "MethodInstance for f(::Float64)\n",
      "  from f(\u001b[90mx\u001b[39m)\u001b[90m @\u001b[39m \u001b[90mMain\u001b[39m \u001b[90m\u001b[4mIn[70]:1\u001b[24m\u001b[39m\n",
      "Arguments\n",
      "  #self#\u001b[36m::Core.Const(f)\u001b[39m\n",
      "  x\u001b[36m::Float64\u001b[39m\n",
      "Body\u001b[36m::Float64\u001b[39m\n",
      "\u001b[90m1 ─\u001b[39m %1 = (#self#)(x, 1.0)\u001b[36m::Float64\u001b[39m\n",
      "\u001b[90m└──\u001b[39m      return %1\n",
      "\n"
     ]
    }
   ],
   "source": [
    "@code_warntype(f(1.0))"
   ]
  },
  {
   "cell_type": "code",
   "execution_count": 72,
   "id": "0d218ee2",
   "metadata": {},
   "outputs": [
    {
     "name": "stdout",
     "output_type": "stream",
     "text": [
      "\u001b[90m;  @ In[70]:1 within `f`\u001b[39m\n",
      "\u001b[95mdefine\u001b[39m \u001b[36mdouble\u001b[39m \u001b[93m@julia_f_4591\u001b[39m\u001b[33m(\u001b[39m\u001b[36mdouble\u001b[39m \u001b[0m%0\u001b[33m)\u001b[39m \u001b[0m#0 \u001b[33m{\u001b[39m\n",
      "\u001b[91mtop:\u001b[39m\n",
      "\u001b[90m;  @ In[70]:2 within `f` @ In[70]:2\u001b[39m\n",
      "\u001b[90m; ┌ @ float.jl:408 within `+`\u001b[39m\n",
      "   \u001b[0m%1 \u001b[0m= \u001b[96m\u001b[1mfadd\u001b[22m\u001b[39m \u001b[36mdouble\u001b[39m \u001b[0m%0\u001b[0m, \u001b[33m1.000000e+00\u001b[39m\n",
      "\u001b[90m; └\u001b[39m\n",
      "\u001b[90m;  @ In[70]:2 within `f`\u001b[39m\n",
      "  \u001b[96m\u001b[1mret\u001b[22m\u001b[39m \u001b[36mdouble\u001b[39m \u001b[0m%1\n",
      "\u001b[33m}\u001b[39m\n"
     ]
    }
   ],
   "source": [
    "@code_llvm(f(1.0))"
   ]
  },
  {
   "cell_type": "markdown",
   "id": "f06e5fed",
   "metadata": {},
   "source": [
    "Here's an alternative version that relies on a global variable."
   ]
  },
  {
   "cell_type": "code",
   "execution_count": 73,
   "id": "f34c1965",
   "metadata": {},
   "outputs": [
    {
     "data": {
      "text/plain": [
       "g (generic function with 1 method)"
      ]
     },
     "execution_count": 73,
     "metadata": {},
     "output_type": "execute_result"
    }
   ],
   "source": [
    "a = 1.0\n",
    "function g(x)\n",
    "    y = x + a\n",
    "    return y\n",
    "end"
   ]
  },
  {
   "cell_type": "code",
   "execution_count": 74,
   "id": "3eb6ad99",
   "metadata": {},
   "outputs": [
    {
     "name": "stdout",
     "output_type": "stream",
     "text": [
      "MethodInstance for g(::Float64)\n",
      "  from g(\u001b[90mx\u001b[39m)\u001b[90m @\u001b[39m \u001b[90mMain\u001b[39m \u001b[90m\u001b[4mIn[73]:2\u001b[24m\u001b[39m\n",
      "Arguments\n",
      "  #self#\u001b[36m::Core.Const(g)\u001b[39m\n",
      "  x\u001b[36m::Float64\u001b[39m\n",
      "Locals\n",
      "  y\u001b[91m\u001b[1m::Any\u001b[22m\u001b[39m\n",
      "Body\u001b[91m\u001b[1m::Any\u001b[22m\u001b[39m\n",
      "\u001b[90m1 ─\u001b[39m     (y = x + Main.a)\n",
      "\u001b[90m└──\u001b[39m     return y\n",
      "\n"
     ]
    }
   ],
   "source": [
    "@code_warntype(g(1.0))"
   ]
  },
  {
   "cell_type": "code",
   "execution_count": 75,
   "id": "5fe46a8f",
   "metadata": {},
   "outputs": [
    {
     "name": "stdout",
     "output_type": "stream",
     "text": [
      "\u001b[90m;  @ In[73]:2 within `g`\u001b[39m\n",
      "\u001b[95mdefine\u001b[39m \u001b[95mnonnull\u001b[39m \u001b[33m{\u001b[39m\u001b[33m}\u001b[39m\u001b[0m* \u001b[93m@julia_g_4644\u001b[39m\u001b[33m(\u001b[39m\u001b[36mdouble\u001b[39m \u001b[0m%0\u001b[33m)\u001b[39m \u001b[0m#0 \u001b[33m{\u001b[39m\n",
      "\u001b[91mtop:\u001b[39m\n",
      "  \u001b[0m%1 \u001b[0m= \u001b[96m\u001b[1malloca\u001b[22m\u001b[39m \u001b[33m[\u001b[39m\u001b[33m2\u001b[39m \u001b[0mx \u001b[33m{\u001b[39m\u001b[33m}\u001b[39m\u001b[0m*\u001b[33m]\u001b[39m\u001b[0m, \u001b[95malign\u001b[39m \u001b[33m8\u001b[39m\n",
      "  \u001b[0m%gcframe4 \u001b[0m= \u001b[96m\u001b[1malloca\u001b[22m\u001b[39m \u001b[33m[\u001b[39m\u001b[33m4\u001b[39m \u001b[0mx \u001b[33m{\u001b[39m\u001b[33m}\u001b[39m\u001b[0m*\u001b[33m]\u001b[39m\u001b[0m, \u001b[95malign\u001b[39m \u001b[33m16\u001b[39m\n",
      "  \u001b[0m%gcframe4.sub \u001b[0m= \u001b[96m\u001b[1mgetelementptr\u001b[22m\u001b[39m \u001b[95minbounds\u001b[39m \u001b[33m[\u001b[39m\u001b[33m4\u001b[39m \u001b[0mx \u001b[33m{\u001b[39m\u001b[33m}\u001b[39m\u001b[0m*\u001b[33m]\u001b[39m\u001b[0m, \u001b[33m[\u001b[39m\u001b[33m4\u001b[39m \u001b[0mx \u001b[33m{\u001b[39m\u001b[33m}\u001b[39m\u001b[0m*\u001b[33m]\u001b[39m\u001b[0m* \u001b[0m%gcframe4\u001b[0m, \u001b[36mi64\u001b[39m \u001b[33m0\u001b[39m\u001b[0m, \u001b[36mi64\u001b[39m \u001b[33m0\u001b[39m\n",
      "  \u001b[0m%.sub \u001b[0m= \u001b[96m\u001b[1mgetelementptr\u001b[22m\u001b[39m \u001b[95minbounds\u001b[39m \u001b[33m[\u001b[39m\u001b[33m2\u001b[39m \u001b[0mx \u001b[33m{\u001b[39m\u001b[33m}\u001b[39m\u001b[0m*\u001b[33m]\u001b[39m\u001b[0m, \u001b[33m[\u001b[39m\u001b[33m2\u001b[39m \u001b[0mx \u001b[33m{\u001b[39m\u001b[33m}\u001b[39m\u001b[0m*\u001b[33m]\u001b[39m\u001b[0m* \u001b[0m%1\u001b[0m, \u001b[36mi64\u001b[39m \u001b[33m0\u001b[39m\u001b[0m, \u001b[36mi64\u001b[39m \u001b[33m0\u001b[39m\n",
      "  \u001b[0m%2 \u001b[0m= \u001b[96m\u001b[1mbitcast\u001b[22m\u001b[39m \u001b[33m[\u001b[39m\u001b[33m4\u001b[39m \u001b[0mx \u001b[33m{\u001b[39m\u001b[33m}\u001b[39m\u001b[0m*\u001b[33m]\u001b[39m\u001b[0m* \u001b[0m%gcframe4 \u001b[95mto\u001b[39m \u001b[36mi8\u001b[39m\u001b[0m*\n",
      "  \u001b[96m\u001b[1mcall\u001b[22m\u001b[39m \u001b[36mvoid\u001b[39m \u001b[93m@llvm.memset.p0i8.i32\u001b[39m\u001b[33m(\u001b[39m\u001b[36mi8\u001b[39m\u001b[0m* \u001b[95mnoundef\u001b[39m \u001b[95mnonnull\u001b[39m \u001b[95malign\u001b[39m \u001b[33m16\u001b[39m \u001b[95mdereferenceable\u001b[39m\u001b[33m(\u001b[39m\u001b[33m32\u001b[39m\u001b[33m)\u001b[39m \u001b[0m%2\u001b[0m, \u001b[36mi8\u001b[39m \u001b[33m0\u001b[39m\u001b[0m, \u001b[36mi32\u001b[39m \u001b[33m32\u001b[39m\u001b[0m, \u001b[36mi1\u001b[39m \u001b[95mfalse\u001b[39m\u001b[33m)\u001b[39m\n",
      "  \u001b[0m%thread_ptr \u001b[0m= \u001b[95mcall\u001b[39m \u001b[36mi8\u001b[39m\u001b[0m* \u001b[95masm\u001b[39m \u001b[0m\"movq %fs:0, $0\"\u001b[0m, \u001b[0m\"=r\"\u001b[33m(\u001b[39m\u001b[33m)\u001b[39m \u001b[0m#5\n",
      "  \u001b[0m%ppgcstack_i8 \u001b[0m= \u001b[96m\u001b[1mgetelementptr\u001b[22m\u001b[39m \u001b[36mi8\u001b[39m\u001b[0m, \u001b[36mi8\u001b[39m\u001b[0m* \u001b[0m%thread_ptr\u001b[0m, \u001b[36mi64\u001b[39m \u001b[33m-8\u001b[39m\n",
      "  \u001b[0m%ppgcstack \u001b[0m= \u001b[96m\u001b[1mbitcast\u001b[22m\u001b[39m \u001b[36mi8\u001b[39m\u001b[0m* \u001b[0m%ppgcstack_i8 \u001b[95mto\u001b[39m \u001b[33m{\u001b[39m\u001b[33m}\u001b[39m\u001b[0m****\n",
      "  \u001b[0m%pgcstack \u001b[0m= \u001b[96m\u001b[1mload\u001b[22m\u001b[39m \u001b[33m{\u001b[39m\u001b[33m}\u001b[39m\u001b[0m***\u001b[0m, \u001b[33m{\u001b[39m\u001b[33m}\u001b[39m\u001b[0m**** \u001b[0m%ppgcstack\u001b[0m, \u001b[95malign\u001b[39m \u001b[33m8\u001b[39m\n",
      "\u001b[90m;  @ In[73]:3 within `g`\u001b[39m\n",
      "  \u001b[0m%3 \u001b[0m= \u001b[96m\u001b[1mbitcast\u001b[22m\u001b[39m \u001b[33m[\u001b[39m\u001b[33m4\u001b[39m \u001b[0mx \u001b[33m{\u001b[39m\u001b[33m}\u001b[39m\u001b[0m*\u001b[33m]\u001b[39m\u001b[0m* \u001b[0m%gcframe4 \u001b[95mto\u001b[39m \u001b[36mi64\u001b[39m\u001b[0m*\n",
      "  \u001b[96m\u001b[1mstore\u001b[22m\u001b[39m \u001b[36mi64\u001b[39m \u001b[33m8\u001b[39m\u001b[0m, \u001b[36mi64\u001b[39m\u001b[0m* \u001b[0m%3\u001b[0m, \u001b[95malign\u001b[39m \u001b[33m16\u001b[39m\n",
      "  \u001b[0m%4 \u001b[0m= \u001b[96m\u001b[1mgetelementptr\u001b[22m\u001b[39m \u001b[95minbounds\u001b[39m \u001b[33m[\u001b[39m\u001b[33m4\u001b[39m \u001b[0mx \u001b[33m{\u001b[39m\u001b[33m}\u001b[39m\u001b[0m*\u001b[33m]\u001b[39m\u001b[0m, \u001b[33m[\u001b[39m\u001b[33m4\u001b[39m \u001b[0mx \u001b[33m{\u001b[39m\u001b[33m}\u001b[39m\u001b[0m*\u001b[33m]\u001b[39m\u001b[0m* \u001b[0m%gcframe4\u001b[0m, \u001b[36mi64\u001b[39m \u001b[33m0\u001b[39m\u001b[0m, \u001b[36mi64\u001b[39m \u001b[33m1\u001b[39m\n",
      "  \u001b[0m%5 \u001b[0m= \u001b[96m\u001b[1mbitcast\u001b[22m\u001b[39m \u001b[33m{\u001b[39m\u001b[33m}\u001b[39m\u001b[0m** \u001b[0m%4 \u001b[95mto\u001b[39m \u001b[33m{\u001b[39m\u001b[33m}\u001b[39m\u001b[0m***\n",
      "  \u001b[0m%6 \u001b[0m= \u001b[96m\u001b[1mload\u001b[22m\u001b[39m \u001b[33m{\u001b[39m\u001b[33m}\u001b[39m\u001b[0m**\u001b[0m, \u001b[33m{\u001b[39m\u001b[33m}\u001b[39m\u001b[0m*** \u001b[0m%pgcstack\u001b[0m, \u001b[95malign\u001b[39m \u001b[33m8\u001b[39m\n",
      "  \u001b[96m\u001b[1mstore\u001b[22m\u001b[39m \u001b[33m{\u001b[39m\u001b[33m}\u001b[39m\u001b[0m** \u001b[0m%6\u001b[0m, \u001b[33m{\u001b[39m\u001b[33m}\u001b[39m\u001b[0m*** \u001b[0m%5\u001b[0m, \u001b[95malign\u001b[39m \u001b[33m8\u001b[39m\n",
      "  \u001b[0m%7 \u001b[0m= \u001b[96m\u001b[1mbitcast\u001b[22m\u001b[39m \u001b[33m{\u001b[39m\u001b[33m}\u001b[39m\u001b[0m*** \u001b[0m%pgcstack \u001b[95mto\u001b[39m \u001b[33m{\u001b[39m\u001b[33m}\u001b[39m\u001b[0m***\n",
      "  \u001b[96m\u001b[1mstore\u001b[22m\u001b[39m \u001b[33m{\u001b[39m\u001b[33m}\u001b[39m\u001b[0m** \u001b[0m%gcframe4.sub\u001b[0m, \u001b[33m{\u001b[39m\u001b[33m}\u001b[39m\u001b[0m*** \u001b[0m%7\u001b[0m, \u001b[95malign\u001b[39m \u001b[33m8\u001b[39m\n",
      "  \u001b[0m%8 \u001b[0m= \u001b[96m\u001b[1mload\u001b[22m\u001b[39m \u001b[95matomic\u001b[39m \u001b[33m{\u001b[39m\u001b[33m}\u001b[39m\u001b[0m*\u001b[0m, \u001b[33m{\u001b[39m\u001b[33m}\u001b[39m\u001b[0m** \u001b[95minttoptr\u001b[39m \u001b[33m(\u001b[39m\u001b[36mi64\u001b[39m \u001b[33m140366813662936\u001b[39m \u001b[95mto\u001b[39m \u001b[33m{\u001b[39m\u001b[33m}\u001b[39m\u001b[0m**\u001b[33m)\u001b[39m \u001b[95munordered\u001b[39m\u001b[0m, \u001b[95malign\u001b[39m \u001b[33m8\u001b[39m\n",
      "  \u001b[0m%9 \u001b[0m= \u001b[96m\u001b[1mgetelementptr\u001b[22m\u001b[39m \u001b[95minbounds\u001b[39m \u001b[33m[\u001b[39m\u001b[33m4\u001b[39m \u001b[0mx \u001b[33m{\u001b[39m\u001b[33m}\u001b[39m\u001b[0m*\u001b[33m]\u001b[39m\u001b[0m, \u001b[33m[\u001b[39m\u001b[33m4\u001b[39m \u001b[0mx \u001b[33m{\u001b[39m\u001b[33m}\u001b[39m\u001b[0m*\u001b[33m]\u001b[39m\u001b[0m* \u001b[0m%gcframe4\u001b[0m, \u001b[36mi64\u001b[39m \u001b[33m0\u001b[39m\u001b[0m, \u001b[36mi64\u001b[39m \u001b[33m2\u001b[39m\n",
      "  \u001b[96m\u001b[1mstore\u001b[22m\u001b[39m \u001b[33m{\u001b[39m\u001b[33m}\u001b[39m\u001b[0m* \u001b[0m%8\u001b[0m, \u001b[33m{\u001b[39m\u001b[33m}\u001b[39m\u001b[0m** \u001b[0m%9\u001b[0m, \u001b[95malign\u001b[39m \u001b[33m16\u001b[39m\n",
      "  \u001b[0m%ptls_field5 \u001b[0m= \u001b[96m\u001b[1mgetelementptr\u001b[22m\u001b[39m \u001b[95minbounds\u001b[39m \u001b[33m{\u001b[39m\u001b[33m}\u001b[39m\u001b[0m**\u001b[0m, \u001b[33m{\u001b[39m\u001b[33m}\u001b[39m\u001b[0m*** \u001b[0m%pgcstack\u001b[0m, \u001b[36mi64\u001b[39m \u001b[33m2\u001b[39m\n",
      "  \u001b[0m%10 \u001b[0m= \u001b[96m\u001b[1mbitcast\u001b[22m\u001b[39m \u001b[33m{\u001b[39m\u001b[33m}\u001b[39m\u001b[0m*** \u001b[0m%ptls_field5 \u001b[95mto\u001b[39m \u001b[36mi8\u001b[39m\u001b[0m**\n",
      "  \u001b[0m%ptls_load67 \u001b[0m= \u001b[96m\u001b[1mload\u001b[22m\u001b[39m \u001b[36mi8\u001b[39m\u001b[0m*\u001b[0m, \u001b[36mi8\u001b[39m\u001b[0m** \u001b[0m%10\u001b[0m, \u001b[95malign\u001b[39m \u001b[33m8\u001b[39m\n",
      "  \u001b[0m%11 \u001b[0m= \u001b[96m\u001b[1mcall\u001b[22m\u001b[39m \u001b[95mnoalias\u001b[39m \u001b[95mnonnull\u001b[39m \u001b[33m{\u001b[39m\u001b[33m}\u001b[39m\u001b[0m* \u001b[93m@ijl_gc_pool_alloc\u001b[39m\u001b[33m(\u001b[39m\u001b[36mi8\u001b[39m\u001b[0m* \u001b[0m%ptls_load67\u001b[0m, \u001b[36mi32\u001b[39m \u001b[33m1392\u001b[39m\u001b[0m, \u001b[36mi32\u001b[39m \u001b[33m16\u001b[39m\u001b[33m)\u001b[39m \u001b[0m#1\n",
      "  \u001b[0m%12 \u001b[0m= \u001b[96m\u001b[1mbitcast\u001b[22m\u001b[39m \u001b[33m{\u001b[39m\u001b[33m}\u001b[39m\u001b[0m* \u001b[0m%11 \u001b[95mto\u001b[39m \u001b[36mi64\u001b[39m\u001b[0m*\n",
      "  \u001b[0m%13 \u001b[0m= \u001b[96m\u001b[1mgetelementptr\u001b[22m\u001b[39m \u001b[95minbounds\u001b[39m \u001b[36mi64\u001b[39m\u001b[0m, \u001b[36mi64\u001b[39m\u001b[0m* \u001b[0m%12\u001b[0m, \u001b[36mi64\u001b[39m \u001b[33m-1\u001b[39m\n",
      "  \u001b[96m\u001b[1mstore\u001b[22m\u001b[39m \u001b[95matomic\u001b[39m \u001b[36mi64\u001b[39m \u001b[33m140366696264096\u001b[39m\u001b[0m, \u001b[36mi64\u001b[39m\u001b[0m* \u001b[0m%13 \u001b[95munordered\u001b[39m\u001b[0m, \u001b[95malign\u001b[39m \u001b[33m8\u001b[39m\n",
      "  \u001b[0m%14 \u001b[0m= \u001b[96m\u001b[1mbitcast\u001b[22m\u001b[39m \u001b[33m{\u001b[39m\u001b[33m}\u001b[39m\u001b[0m* \u001b[0m%11 \u001b[95mto\u001b[39m \u001b[36mdouble\u001b[39m\u001b[0m*\n",
      "  \u001b[96m\u001b[1mstore\u001b[22m\u001b[39m \u001b[36mdouble\u001b[39m \u001b[0m%0\u001b[0m, \u001b[36mdouble\u001b[39m\u001b[0m* \u001b[0m%14\u001b[0m, \u001b[95malign\u001b[39m \u001b[33m8\u001b[39m\n",
      "  \u001b[0m%15 \u001b[0m= \u001b[96m\u001b[1mgetelementptr\u001b[22m\u001b[39m \u001b[95minbounds\u001b[39m \u001b[33m[\u001b[39m\u001b[33m4\u001b[39m \u001b[0mx \u001b[33m{\u001b[39m\u001b[33m}\u001b[39m\u001b[0m*\u001b[33m]\u001b[39m\u001b[0m, \u001b[33m[\u001b[39m\u001b[33m4\u001b[39m \u001b[0mx \u001b[33m{\u001b[39m\u001b[33m}\u001b[39m\u001b[0m*\u001b[33m]\u001b[39m\u001b[0m* \u001b[0m%gcframe4\u001b[0m, \u001b[36mi64\u001b[39m \u001b[33m0\u001b[39m\u001b[0m, \u001b[36mi64\u001b[39m \u001b[33m3\u001b[39m\n",
      "  \u001b[96m\u001b[1mstore\u001b[22m\u001b[39m \u001b[33m{\u001b[39m\u001b[33m}\u001b[39m\u001b[0m* \u001b[0m%11\u001b[0m, \u001b[33m{\u001b[39m\u001b[33m}\u001b[39m\u001b[0m** \u001b[0m%15\u001b[0m, \u001b[95malign\u001b[39m \u001b[33m8\u001b[39m\n",
      "  \u001b[96m\u001b[1mstore\u001b[22m\u001b[39m \u001b[33m{\u001b[39m\u001b[33m}\u001b[39m\u001b[0m* \u001b[0m%11\u001b[0m, \u001b[33m{\u001b[39m\u001b[33m}\u001b[39m\u001b[0m** \u001b[0m%.sub\u001b[0m, \u001b[95malign\u001b[39m \u001b[33m8\u001b[39m\n",
      "  \u001b[0m%16 \u001b[0m= \u001b[96m\u001b[1mgetelementptr\u001b[22m\u001b[39m \u001b[95minbounds\u001b[39m \u001b[33m[\u001b[39m\u001b[33m2\u001b[39m \u001b[0mx \u001b[33m{\u001b[39m\u001b[33m}\u001b[39m\u001b[0m*\u001b[33m]\u001b[39m\u001b[0m, \u001b[33m[\u001b[39m\u001b[33m2\u001b[39m \u001b[0mx \u001b[33m{\u001b[39m\u001b[33m}\u001b[39m\u001b[0m*\u001b[33m]\u001b[39m\u001b[0m* \u001b[0m%1\u001b[0m, \u001b[36mi64\u001b[39m \u001b[33m0\u001b[39m\u001b[0m, \u001b[36mi64\u001b[39m \u001b[33m1\u001b[39m\n",
      "  \u001b[96m\u001b[1mstore\u001b[22m\u001b[39m \u001b[33m{\u001b[39m\u001b[33m}\u001b[39m\u001b[0m* \u001b[0m%8\u001b[0m, \u001b[33m{\u001b[39m\u001b[33m}\u001b[39m\u001b[0m** \u001b[0m%16\u001b[0m, \u001b[95malign\u001b[39m \u001b[33m8\u001b[39m\n",
      "  \u001b[0m%17 \u001b[0m= \u001b[96m\u001b[1mcall\u001b[22m\u001b[39m \u001b[95mnonnull\u001b[39m \u001b[33m{\u001b[39m\u001b[33m}\u001b[39m\u001b[0m* \u001b[93m@ijl_apply_generic\u001b[39m\u001b[33m(\u001b[39m\u001b[33m{\u001b[39m\u001b[33m}\u001b[39m\u001b[0m* \u001b[95minttoptr\u001b[39m \u001b[33m(\u001b[39m\u001b[36mi64\u001b[39m \u001b[33m140366616789552\u001b[39m \u001b[95mto\u001b[39m \u001b[33m{\u001b[39m\u001b[33m}\u001b[39m\u001b[0m*\u001b[33m)\u001b[39m\u001b[0m, \u001b[33m{\u001b[39m\u001b[33m}\u001b[39m\u001b[0m** \u001b[95mnonnull\u001b[39m \u001b[0m%.sub\u001b[0m, \u001b[36mi32\u001b[39m \u001b[33m2\u001b[39m\u001b[33m)\u001b[39m\n",
      "  \u001b[0m%18 \u001b[0m= \u001b[96m\u001b[1mload\u001b[22m\u001b[39m \u001b[33m{\u001b[39m\u001b[33m}\u001b[39m\u001b[0m*\u001b[0m, \u001b[33m{\u001b[39m\u001b[33m}\u001b[39m\u001b[0m** \u001b[0m%4\u001b[0m, \u001b[95malign\u001b[39m \u001b[33m8\u001b[39m\n",
      "  \u001b[0m%19 \u001b[0m= \u001b[96m\u001b[1mbitcast\u001b[22m\u001b[39m \u001b[33m{\u001b[39m\u001b[33m}\u001b[39m\u001b[0m*** \u001b[0m%pgcstack \u001b[95mto\u001b[39m \u001b[33m{\u001b[39m\u001b[33m}\u001b[39m\u001b[0m**\n",
      "  \u001b[96m\u001b[1mstore\u001b[22m\u001b[39m \u001b[33m{\u001b[39m\u001b[33m}\u001b[39m\u001b[0m* \u001b[0m%18\u001b[0m, \u001b[33m{\u001b[39m\u001b[33m}\u001b[39m\u001b[0m** \u001b[0m%19\u001b[0m, \u001b[95malign\u001b[39m \u001b[33m8\u001b[39m\n",
      "\u001b[90m;  @ In[73]:4 within `g`\u001b[39m\n",
      "  \u001b[96m\u001b[1mret\u001b[22m\u001b[39m \u001b[33m{\u001b[39m\u001b[33m}\u001b[39m\u001b[0m* \u001b[0m%17\n",
      "\u001b[33m}\u001b[39m\n"
     ]
    }
   ],
   "source": [
    "@code_llvm(g(1.0))"
   ]
  },
  {
   "cell_type": "markdown",
   "id": "e94ccefc",
   "metadata": {},
   "source": [
    "### Avoid type instability"
   ]
  },
  {
   "cell_type": "markdown",
   "id": "1fa60d59",
   "metadata": {},
   "source": [
    "A function is type stable if the return type depends on its inputs only through their type, not their values."
   ]
  },
  {
   "cell_type": "code",
   "execution_count": 76,
   "id": "069fdf94",
   "metadata": {},
   "outputs": [
    {
     "data": {
      "text/plain": [
       "f (generic function with 2 methods)"
      ]
     },
     "execution_count": 76,
     "metadata": {},
     "output_type": "execute_result"
    }
   ],
   "source": [
    "function f(x)\n",
    "    y = x ≤ 0 ? zero(x) : x\n",
    "    return y\n",
    "end "
   ]
  },
  {
   "cell_type": "markdown",
   "id": "5d45cf45",
   "metadata": {},
   "source": [
    "If I know the input type, then I know the output type."
   ]
  },
  {
   "cell_type": "code",
   "execution_count": 77,
   "id": "dda3b5fa",
   "metadata": {},
   "outputs": [
    {
     "data": {
      "text/plain": [
       "1.0"
      ]
     },
     "execution_count": 77,
     "metadata": {},
     "output_type": "execute_result"
    }
   ],
   "source": [
    "f(1.0)"
   ]
  },
  {
   "cell_type": "code",
   "execution_count": 78,
   "id": "6d7f2d8f",
   "metadata": {},
   "outputs": [
    {
     "data": {
      "text/plain": [
       "1"
      ]
     },
     "execution_count": 78,
     "metadata": {},
     "output_type": "execute_result"
    }
   ],
   "source": [
    "f(1)"
   ]
  },
  {
   "cell_type": "code",
   "execution_count": 79,
   "id": "be0c35c2",
   "metadata": {},
   "outputs": [
    {
     "name": "stdout",
     "output_type": "stream",
     "text": [
      "MethodInstance for f(::Float64)\n",
      "  from f(\u001b[90mx\u001b[39m)\u001b[90m @\u001b[39m \u001b[90mMain\u001b[39m \u001b[90m\u001b[4mIn[76]:1\u001b[24m\u001b[39m\n",
      "Arguments\n",
      "  #self#\u001b[36m::Core.Const(f)\u001b[39m\n",
      "  x\u001b[36m::Float64\u001b[39m\n",
      "Locals\n",
      "  y\u001b[36m::Float64\u001b[39m\n",
      "  @_4\u001b[36m::Float64\u001b[39m\n",
      "Body\u001b[36m::Float64\u001b[39m\n",
      "\u001b[90m1 ─\u001b[39m      Core.NewvarNode(:(y))\n",
      "\u001b[90m│  \u001b[39m %2 = (x ≤ 0)\u001b[36m::Bool\u001b[39m\n",
      "\u001b[90m└──\u001b[39m      goto #3 if not %2\n",
      "\u001b[90m2 ─\u001b[39m      (@_4 = Main.zero(x))\n",
      "\u001b[90m└──\u001b[39m      goto #4\n",
      "\u001b[90m3 ─\u001b[39m      (@_4 = x)\n",
      "\u001b[90m4 ┄\u001b[39m      (y = @_4)\n",
      "\u001b[90m└──\u001b[39m      return y\n",
      "\n"
     ]
    }
   ],
   "source": [
    "@code_warntype(f(1.0))"
   ]
  },
  {
   "cell_type": "markdown",
   "id": "9fd1c11a",
   "metadata": {},
   "source": [
    "Now let's write a function that uses `f`"
   ]
  },
  {
   "cell_type": "code",
   "execution_count": 80,
   "id": "937e10d8",
   "metadata": {},
   "outputs": [
    {
     "data": {
      "text/plain": [
       "test (generic function with 3 methods)"
      ]
     },
     "execution_count": 80,
     "metadata": {},
     "output_type": "execute_result"
    }
   ],
   "source": [
    "function test(f, n=1_000_000)\n",
    "    s = 0.0\n",
    "    for i in 1:n\n",
    "        x = randn()\n",
    "        y = f(x)\n",
    "        s += y\n",
    "    end\n",
    "    return s\n",
    "end"
   ]
  },
  {
   "cell_type": "code",
   "execution_count": 81,
   "id": "62f9d256",
   "metadata": {},
   "outputs": [
    {
     "data": {
      "text/plain": [
       "398992.4554904771"
      ]
     },
     "execution_count": 81,
     "metadata": {},
     "output_type": "execute_result"
    }
   ],
   "source": [
    "test(f)"
   ]
  },
  {
   "cell_type": "code",
   "execution_count": 82,
   "id": "b461b890",
   "metadata": {},
   "outputs": [],
   "source": [
    "using BenchmarkTools"
   ]
  },
  {
   "cell_type": "code",
   "execution_count": 83,
   "id": "91cdae49",
   "metadata": {},
   "outputs": [
    {
     "name": "stdout",
     "output_type": "stream",
     "text": [
      "  2.052 ms (0 allocations: 0 bytes)\n"
     ]
    },
    {
     "data": {
      "text/plain": [
       "398852.6612787183"
      ]
     },
     "execution_count": 83,
     "metadata": {},
     "output_type": "execute_result"
    }
   ],
   "source": [
    "@btime test(f)"
   ]
  },
  {
   "cell_type": "markdown",
   "id": "0df3ea81",
   "metadata": {},
   "source": [
    "The following function is not type stable."
   ]
  },
  {
   "cell_type": "code",
   "execution_count": 84,
   "id": "b879b15b",
   "metadata": {},
   "outputs": [
    {
     "data": {
      "text/plain": [
       "bad_f (generic function with 1 method)"
      ]
     },
     "execution_count": 84,
     "metadata": {},
     "output_type": "execute_result"
    }
   ],
   "source": [
    "function bad_f(x)\n",
    "    if x ≤ 0\n",
    "        out = 0\n",
    "    else\n",
    "        out = x\n",
    "    end\n",
    "    return out\n",
    "end"
   ]
  },
  {
   "cell_type": "code",
   "execution_count": 85,
   "id": "29c6821d",
   "metadata": {},
   "outputs": [
    {
     "data": {
      "text/plain": [
       "0"
      ]
     },
     "execution_count": 85,
     "metadata": {},
     "output_type": "execute_result"
    }
   ],
   "source": [
    "bad_f(-1.0)"
   ]
  },
  {
   "cell_type": "code",
   "execution_count": 86,
   "id": "a4ed4ee9",
   "metadata": {},
   "outputs": [
    {
     "data": {
      "text/plain": [
       "1.0"
      ]
     },
     "execution_count": 86,
     "metadata": {},
     "output_type": "execute_result"
    }
   ],
   "source": [
    "bad_f(1.0)"
   ]
  },
  {
   "cell_type": "code",
   "execution_count": 87,
   "id": "b5d68bc5",
   "metadata": {},
   "outputs": [
    {
     "name": "stdout",
     "output_type": "stream",
     "text": [
      "MethodInstance for bad_f(::Float64)\n",
      "  from bad_f(\u001b[90mx\u001b[39m)\u001b[90m @\u001b[39m \u001b[90mMain\u001b[39m \u001b[90m\u001b[4mIn[84]:1\u001b[24m\u001b[39m\n",
      "Arguments\n",
      "  #self#\u001b[36m::Core.Const(bad_f)\u001b[39m\n",
      "  x\u001b[36m::Float64\u001b[39m\n",
      "Locals\n",
      "  out\u001b[33m\u001b[1m::Union{Float64, Int64}\u001b[22m\u001b[39m\n",
      "Body\u001b[33m\u001b[1m::Union{Float64, Int64}\u001b[22m\u001b[39m\n",
      "\u001b[90m1 ─\u001b[39m      Core.NewvarNode(:(out))\n",
      "\u001b[90m│  \u001b[39m %2 = (x ≤ 0)\u001b[36m::Bool\u001b[39m\n",
      "\u001b[90m└──\u001b[39m      goto #3 if not %2\n",
      "\u001b[90m2 ─\u001b[39m      (out = 0)\n",
      "\u001b[90m└──\u001b[39m      goto #4\n",
      "\u001b[90m3 ─\u001b[39m      (out = x)\n",
      "\u001b[90m4 ┄\u001b[39m      return out\n",
      "\n"
     ]
    }
   ],
   "source": [
    "@code_warntype(bad_f(1.0))"
   ]
  },
  {
   "cell_type": "code",
   "execution_count": 88,
   "id": "ff5de3d9",
   "metadata": {},
   "outputs": [
    {
     "name": "stdout",
     "output_type": "stream",
     "text": [
      "  2.677 ms (0 allocations: 0 bytes)\n"
     ]
    },
    {
     "data": {
      "text/plain": [
       "398117.3003939513"
      ]
     },
     "execution_count": 88,
     "metadata": {},
     "output_type": "execute_result"
    }
   ],
   "source": [
    "@btime test(bad_f)"
   ]
  },
  {
   "cell_type": "code",
   "execution_count": null,
   "id": "522ab7b7",
   "metadata": {},
   "outputs": [],
   "source": []
  }
 ],
 "metadata": {
  "kernelspec": {
   "display_name": "Julia 1.9.1",
   "language": "julia",
   "name": "julia-1.9"
  },
  "language_info": {
   "file_extension": ".jl",
   "mimetype": "application/julia",
   "name": "julia",
   "version": "1.9.1"
  }
 },
 "nbformat": 4,
 "nbformat_minor": 5
}
