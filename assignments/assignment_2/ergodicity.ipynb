{
 "cells": [
  {
   "cell_type": "code",
   "execution_count": null,
   "id": "491f05c1",
   "metadata": {},
   "outputs": [],
   "source": [
    "import numpy as np\n",
    "import matplotlib.pyplot as plt\n",
    "import quantecon as qe\n",
    "from numba import njit\n",
    "import jax\n",
    "import jax.numpy as jnp\n",
    "from scipy.stats import beta"
   ]
  },
  {
   "cell_type": "code",
   "execution_count": null,
   "id": "1b9932b0",
   "metadata": {},
   "outputs": [],
   "source": [
    "jax.config.update(\"jax_enable_x64\", True)"
   ]
  },
  {
   "cell_type": "markdown",
   "id": "c295b5ce",
   "metadata": {},
   "source": [
    "== densities == #"
   ]
  },
  {
   "cell_type": "code",
   "execution_count": null,
   "id": "e9b4ee83",
   "metadata": {},
   "outputs": [],
   "source": [
    "def f_star(x):\n",
    "    \" Stationary density. \"\n",
    "    return 1 / (np.pi * np.sqrt(x * (1-x)))"
   ]
  },
  {
   "cell_type": "code",
   "execution_count": null,
   "id": "9d6c3fff",
   "metadata": {
    "lines_to_next_cell": 1
   },
   "outputs": [],
   "source": [
    "def Pf(x):\n",
    "    \" Pf when f is uniform. \"\n",
    "    return (1/2) * 1 / np.sqrt(1-x)"
   ]
  },
  {
   "cell_type": "code",
   "execution_count": null,
   "id": "5b40e4ca",
   "metadata": {},
   "outputs": [],
   "source": [
    "def P2f(x):\n",
    "    \" P^2 f when f is uniform. \"\n",
    "    z = np.sqrt(1-x)\n",
    "    return 1/(4 * z) * (Pf((1-z)/2) + Pf((1+z)/2))"
   ]
  },
  {
   "cell_type": "markdown",
   "id": "e34cf009",
   "metadata": {},
   "source": [
    "== state space updates  == #"
   ]
  },
  {
   "cell_type": "code",
   "execution_count": null,
   "id": "39fdf722",
   "metadata": {},
   "outputs": [],
   "source": [
    "@njit\n",
    "def g(x):\n",
    "    return 4 * x * (1-x)"
   ]
  },
  {
   "cell_type": "code",
   "execution_count": null,
   "id": "bd76c812",
   "metadata": {},
   "outputs": [],
   "source": [
    "@njit\n",
    "def gen_trajectory(x0, n=100):\n",
    "    x = np.empty(n)\n",
    "    x[0] = x0\n",
    "    for t in range(n-1):\n",
    "        x[t+1] = g(x[t])\n",
    "\n",
    "    return x"
   ]
  },
  {
   "cell_type": "code",
   "execution_count": null,
   "id": "506e8426",
   "metadata": {},
   "outputs": [],
   "source": [
    "@njit\n",
    "def g_shifter(x0, n=20):\n",
    "    \" Shift x0 forward n periods. \"\n",
    "    x = x0\n",
    "    for i in range(n):\n",
    "        x = g(x)\n",
    "    return x"
   ]
  },
  {
   "cell_type": "code",
   "execution_count": null,
   "id": "7aa3a143",
   "metadata": {},
   "outputs": [],
   "source": [
    "def g_shifter_loop(x0, n):\n",
    "    \"\"\"\n",
    "    Shift x0 forward n periods.\n",
    "\n",
    "    \"\"\"\n",
    "    x = x0\n",
    "    for _ in range(n):\n",
    "        x = 4.0 * x * (1 - x)\n",
    "    return x"
   ]
  },
  {
   "cell_type": "code",
   "execution_count": null,
   "id": "b948bb64",
   "metadata": {},
   "outputs": [],
   "source": [
    "def g_shifter_scan(x0, n):\n",
    "    \"\"\"\n",
    "    Shift x0 forward n periods.\n",
    "\n",
    "    \"\"\"\n",
    "    def update(x, _):\n",
    "        return 4.0 * x * (1 - x), _\n",
    "\n",
    "    x, _ = jax.lax.scan(update, x0, None, length=n)\n",
    "    return x"
   ]
  },
  {
   "cell_type": "code",
   "execution_count": null,
   "id": "f767b83e",
   "metadata": {},
   "outputs": [],
   "source": [
    "g_shifter_scan = jax.jit(g_shifter_scan, static_argnums=(1,))"
   ]
  },
  {
   "cell_type": "code",
   "execution_count": null,
   "id": "8b882918",
   "metadata": {},
   "outputs": [],
   "source": [
    "g_shifter_vmap = jax.vmap(g_shifter_loop, in_axes=(0, None))"
   ]
  },
  {
   "cell_type": "code",
   "execution_count": null,
   "id": "1ec4dff8",
   "metadata": {},
   "outputs": [],
   "source": [
    "def test_speed(m=10_000_000, n=100):\n",
    "\n",
    "    x0 = np.random.rand(m)\n",
    "\n",
    "    qe.tic()\n",
    "    numba_out = g_shifter(x0, n)\n",
    "    numba_time = qe.toc()\n",
    "\n",
    "    x0 = jax.device_put(x0)\n",
    "\n",
    "    qe.tic()\n",
    "    jax_out = g_shifter_scan(x0, n).block_until_ready()\n",
    "    jax_time_with_compile = qe.toc()\n",
    "\n",
    "    qe.tic()\n",
    "    jax_out = g_shifter_scan(x0, n).block_until_ready()\n",
    "    jax_time = qe.toc()\n",
    "\n",
    "    qe.tic()\n",
    "    jax_out = g_shifter_vmap(x0, n).block_until_ready()\n",
    "    jax_vmap_time_with_compile = qe.toc()\n",
    "\n",
    "    qe.tic()\n",
    "    jax_out = g_shifter_vmap(x0, n).block_until_ready()\n",
    "    jax_vmap_time = qe.toc()\n",
    "    qe.tic()\n",
    "\n",
    "    print(f\"Compile time without vmap = {jax_time_with_compile - jax_time}\") \n",
    "    print(f\"Compile time with vmap = {jax_vmap_time_with_compile - jax_vmap_time}\") \n",
    "    print(f\"Sped gain from JAX without vmap = {numba_time / jax_time}\")\n",
    "    print(f\"Sped gain from JAX with vmap = {numba_time / jax_vmap_time}\")"
   ]
  },
  {
   "cell_type": "markdown",
   "id": "225485af",
   "metadata": {},
   "source": [
    "== Plotting code == #"
   ]
  },
  {
   "cell_type": "code",
   "execution_count": null,
   "id": "9ae841b5",
   "metadata": {
    "lines_to_next_cell": 1
   },
   "outputs": [],
   "source": [
    "kwargs = dict(density=True, bins=150, alpha=0.5)\n",
    "x_grid = np.linspace(0.0001, 0.9999, 200)"
   ]
  },
  {
   "cell_type": "code",
   "execution_count": null,
   "id": "5502ab6b",
   "metadata": {},
   "outputs": [],
   "source": [
    "def plot_g():\n",
    "    fig, ax = plt.subplots()\n",
    "    xvec = np.linspace(0, 1, 100)\n",
    "    ax.plot(xvec, [g(x) for x in xvec], label=\"$g(x)= 4x(1-x)$\")\n",
    "    ax.plot(xvec, xvec, 'k-', lw=0.5, label='45 degrees')\n",
    "    ax.set_xticks((0, 1))\n",
    "    ax.set_yticks((0, 1))\n",
    "    ax.legend()\n",
    "    plt.show()"
   ]
  },
  {
   "cell_type": "code",
   "execution_count": null,
   "id": "7ac70c1e",
   "metadata": {},
   "outputs": [],
   "source": [
    "def plot_gn(n=20):\n",
    "    fig, ax = plt.subplots()\n",
    "    xvec = np.linspace(0, 1, 100)\n",
    "    ax.plot(xvec, [g_shifter(x, n) for x in xvec], label=\"$g^n$\")\n",
    "    ax.set_xticks((0, 1))\n",
    "    ax.set_yticks((0, 1))\n",
    "    ax.set_xlabel(\"initial condition $x_0$\", fontsize=14)\n",
    "    ax.set_title(f\"$g^n(x_0)$ when $n = {n}$\", fontsize=14)\n",
    "    ax.legend()\n",
    "    plt.show()"
   ]
  },
  {
   "cell_type": "code",
   "execution_count": null,
   "id": "ea640b1c",
   "metadata": {},
   "outputs": [],
   "source": [
    "def plot_traj():\n",
    "    fig, ax = plt.subplots()\n",
    "    ax.plot(gen_trajectory(0.3, n=150), 'o-', alpha=0.6)\n",
    "    ax.set_xlabel(\"$t$\", fontsize=14)\n",
    "    ax.set_ylabel(\"$x_t$\", fontsize=14)\n",
    "    ax.set_yticks((0, 1))\n",
    "    ax.set_xticks((0, 50, 100, 150))\n",
    "    plt.show()"
   ]
  },
  {
   "cell_type": "code",
   "execution_count": null,
   "id": "f562a0b6",
   "metadata": {},
   "outputs": [],
   "source": [
    "def plot_traj_hist():\n",
    "    fig, ax = plt.subplots()\n",
    "    ax.hist(gen_trajectory(0.3, n=100_000), **kwargs, label='observations')\n",
    "    ax.set_xlabel(\"state\", fontsize=14)\n",
    "    ax.set_ylabel(\"frequency\", fontsize=14)\n",
    "    ax.set_ylim(0, 6)\n",
    "    ax.legend()\n",
    "    plt.show()"
   ]
  },
  {
   "cell_type": "code",
   "execution_count": null,
   "id": "939694fe",
   "metadata": {},
   "outputs": [],
   "source": [
    "def plot_traj_hist_and_stationary():\n",
    "    fig, ax = plt.subplots()\n",
    "    ax.hist(gen_trajectory(0.3, n=250_000), **kwargs, label='observations')\n",
    "    y_vals = f_star(x_grid)\n",
    "    ax.plot(x_grid, y_vals, label='$\\psi^*$')\n",
    "    ax.set_xlabel(\"state\", fontsize=14)\n",
    "    ax.set_ylabel(\"frequency\", fontsize=14)\n",
    "    ax.set_ylim(0, 6)\n",
    "    ax.legend()\n",
    "    plt.show()"
   ]
  },
  {
   "cell_type": "code",
   "execution_count": null,
   "id": "59498b76",
   "metadata": {},
   "outputs": [],
   "source": []
  },
  {
   "cell_type": "code",
   "execution_count": null,
   "id": "589bea9e",
   "metadata": {},
   "outputs": [],
   "source": [
    "def plot_dist_images():\n",
    "\n",
    "    def plot_data(ax, y_data, hist_data, label):\n",
    "        ax.set_xlim(-0.05, 1.05)\n",
    "        ax.set_ylim(-0.1, 4.05)\n",
    "        ax.set_yticks([])\n",
    "        ax.set_xticks((0, 1))\n",
    "        ax.set_title(\"time zero distribution\")\n",
    "        ax.plot(x_grid, y_data, label=label)\n",
    "        ax.hist(hist_data, **kwargs, color='orange')\n",
    "        ax.legend(loc='upper center')\n",
    "\n",
    "    sample_size = 100_000\n",
    "\n",
    "    fig, axes = plt.subplots(3, 2, figsize=(10, 6.6))\n",
    "    \n",
    "    beta_param_set = (2, 2), (2, 5), (5, 2)\n",
    "    for i, beta_params in enumerate(beta_param_set):\n",
    "        f0 = np.random.beta(*beta_params, size=sample_size)\n",
    "        fT = g_shifter(f0)\n",
    "        q = beta(*beta_params)\n",
    "        y_data = q.pdf(x_grid)\n",
    "        plot_data(axes[i, 0], q.pdf(x_grid), f0, \"$\\psi_0$\")\n",
    "        plot_data(axes[i, 1], f_star(x_grid), fT, \"$\\psi^*$\")\n",
    "\n",
    "    fig.tight_layout()\n",
    "    plt.show()"
   ]
  },
  {
   "cell_type": "code",
   "execution_count": null,
   "id": "67ddb63d",
   "metadata": {},
   "outputs": [],
   "source": []
  }
 ],
 "metadata": {
  "jupytext": {
   "cell_metadata_filter": "-all",
   "main_language": "python",
   "notebook_metadata_filter": "-all"
  }
 },
 "nbformat": 4,
 "nbformat_minor": 5
}
